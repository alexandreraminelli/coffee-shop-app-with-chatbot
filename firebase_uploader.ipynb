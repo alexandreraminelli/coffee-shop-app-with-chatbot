{
 "cells": [
  {
   "cell_type": "markdown",
   "id": "e1c9ffa9",
   "metadata": {},
   "source": [
    "# Firebase Uploader"
   ]
  },
  {
   "cell_type": "code",
   "execution_count": 1,
   "id": "28485bff",
   "metadata": {},
   "outputs": [],
   "source": [
    "import firebase_admin\n",
    "from firebase_admin import credentials, storage, db\n",
    "import pandas as pd\n",
    "import os \n",
    "import dotenv"
   ]
  },
  {
   "cell_type": "code",
   "execution_count": 2,
   "id": "b0c53b8d",
   "metadata": {},
   "outputs": [
    {
     "data": {
      "text/plain": [
       "True"
      ]
     },
     "execution_count": 2,
     "metadata": {},
     "output_type": "execute_result"
    }
   ],
   "source": [
    "# Carregar variáveis de ambiente\n",
    "dotenv.load_dotenv()"
   ]
  },
  {
   "cell_type": "markdown",
   "id": "429b0c6c",
   "metadata": {},
   "source": [
    "# Iniciar o Firebase"
   ]
  },
  {
   "cell_type": "code",
   "execution_count": 3,
   "id": "4fc85bf2",
   "metadata": {},
   "outputs": [],
   "source": [
    "# Obter informações do json obtido no Firebase que foram adicionados no .env\n",
    "service_account_info = {\n",
    "    \"type\": os.getenv(\"FIREBASE_TYPE\"),\n",
    "    \"project_id\": os.getenv(\"FIREBASE_PROJECT_ID\"),\n",
    "    \"private_key_id\": os.getenv(\"FIREBASE_PRIVATE_KEY_ID\"),\n",
    "    \"private_key\": os.getenv(\"FIREBASE_PRIVATE_KEY\"),\n",
    "    \"client_email\": os.getenv(\"FIREBASE_CLIENT_EMAIL\"),\n",
    "    \"client_id\": os.getenv(\"FIREBASE_CLIENT_ID\"),\n",
    "    \"auth_uri\": os.getenv(\"FIREBASE_AUTH_URI\"),\n",
    "    \"token_uri\": os.getenv(\"FIREBASE_TOKEN_URI\"),\n",
    "    \"auth_provider_x509_cert_url\": os.getenv(\"FIREBASE_AUTH_PROVIDER_X509_CERT_URL\"),\n",
    "    \"client_x509_cert_url\": os.getenv(\"FIREBASE_CLIENT_X509_CERT_URL\"),\n",
    "    \"universe_domain\": os.getenv(\"FIREBASE_UNIVERSE_DOMAIN\"),\n",
    "}"
   ]
  },
  {
   "cell_type": "code",
   "execution_count": 4,
   "id": "f098ff81",
   "metadata": {},
   "outputs": [
    {
     "data": {
      "text/plain": [
       "<firebase_admin.App at 0x2a9e32c8590>"
      ]
     },
     "execution_count": 4,
     "metadata": {},
     "output_type": "execute_result"
    }
   ],
   "source": [
    "# Criar credenciais\n",
    "cred = credentials.Certificate(service_account_info)\n",
    "\n",
    "# Iniciar app Firebase\n",
    "firebase_admin.initialize_app(cred, {\n",
    "    \"storageBucket\": \"coffee-shop-app-c6116.firebasestorage.app\",  # storage pras imagens\n",
    "    \"databaseURL\": \"https://coffee-shop-app-c6116-default-rtdb.firebaseio.com\", # Realtime Database\n",
    "})\n",
    "# Obs: se der erro, precisa reiniciar o notebook para limpar as variáveis"
   ]
  },
  {
   "cell_type": "markdown",
   "id": "8ff4c7f3",
   "metadata": {},
   "source": [
    "# Firebase Storage"
   ]
  },
  {
   "cell_type": "markdown",
   "id": "ee935c50",
   "metadata": {},
   "source": [
    "## Iniciar Bucket\n",
    "Onde serão armazenadas as imagens no Firebase Storage."
   ]
  },
  {
   "cell_type": "code",
   "execution_count": 5,
   "id": "88afaa27",
   "metadata": {},
   "outputs": [],
   "source": [
    "bucket = storage.bucket()"
   ]
  },
  {
   "cell_type": "markdown",
   "id": "fda66588",
   "metadata": {},
   "source": [
    "## Upload dos dados"
   ]
  },
  {
   "cell_type": "code",
   "execution_count": 6,
   "id": "8726ec18",
   "metadata": {},
   "outputs": [],
   "source": [
    "# Pasta de imagens\n",
    "image_folder_path = \"./products/images/\""
   ]
  },
  {
   "cell_type": "code",
   "execution_count": 7,
   "id": "20ab0b74",
   "metadata": {},
   "outputs": [],
   "source": [
    "# Tabela no banco de dados\n",
    "products_collection = db.reference(\"products\")"
   ]
  },
  {
   "cell_type": "code",
   "execution_count": 8,
   "id": "bf4f09b7",
   "metadata": {},
   "outputs": [
    {
     "data": {
      "text/html": [
       "<div>\n",
       "<style scoped>\n",
       "    .dataframe tbody tr th:only-of-type {\n",
       "        vertical-align: middle;\n",
       "    }\n",
       "\n",
       "    .dataframe tbody tr th {\n",
       "        vertical-align: top;\n",
       "    }\n",
       "\n",
       "    .dataframe thead th {\n",
       "        text-align: right;\n",
       "    }\n",
       "</style>\n",
       "<table border=\"1\" class=\"dataframe\">\n",
       "  <thead>\n",
       "    <tr style=\"text-align: right;\">\n",
       "      <th></th>\n",
       "      <th>name</th>\n",
       "      <th>category</th>\n",
       "      <th>description</th>\n",
       "      <th>ingredients</th>\n",
       "      <th>price</th>\n",
       "      <th>rating</th>\n",
       "      <th>image_path</th>\n",
       "    </tr>\n",
       "  </thead>\n",
       "  <tbody>\n",
       "    <tr>\n",
       "      <th>0</th>\n",
       "      <td>Cappuccino</td>\n",
       "      <td>Coffee</td>\n",
       "      <td>A rich and creamy cappuccino made with freshly...</td>\n",
       "      <td>[Espresso, Steamed Milk, Milk Foam]</td>\n",
       "      <td>4.50</td>\n",
       "      <td>4.7</td>\n",
       "      <td>cappuccino.jpg</td>\n",
       "    </tr>\n",
       "    <tr>\n",
       "      <th>1</th>\n",
       "      <td>Jumbo Savory Scone</td>\n",
       "      <td>Bakery</td>\n",
       "      <td>Deliciously flaky and buttery, this jumbo savo...</td>\n",
       "      <td>[Flour, Butter, Cheese, Herbs, Baking Powder, ...</td>\n",
       "      <td>3.25</td>\n",
       "      <td>4.3</td>\n",
       "      <td>SavoryScone.webp</td>\n",
       "    </tr>\n",
       "    <tr>\n",
       "      <th>2</th>\n",
       "      <td>Latte</td>\n",
       "      <td>Coffee</td>\n",
       "      <td>Smooth and creamy, our latte combines rich esp...</td>\n",
       "      <td>[Espresso, Steamed Milk, Milk Foam]</td>\n",
       "      <td>4.75</td>\n",
       "      <td>4.8</td>\n",
       "      <td>Latte.jpg</td>\n",
       "    </tr>\n",
       "    <tr>\n",
       "      <th>3</th>\n",
       "      <td>Chocolate Chip Biscotti</td>\n",
       "      <td>Bakery</td>\n",
       "      <td>Crunchy and delightful, this chocolate chip bi...</td>\n",
       "      <td>[Flour, Sugar, Chocolate Chips, Eggs, Almonds,...</td>\n",
       "      <td>2.50</td>\n",
       "      <td>4.6</td>\n",
       "      <td>chocolat_biscotti.jpg</td>\n",
       "    </tr>\n",
       "    <tr>\n",
       "      <th>4</th>\n",
       "      <td>Espresso shot</td>\n",
       "      <td>Coffee</td>\n",
       "      <td>A bold shot of rich espresso, our espresso is ...</td>\n",
       "      <td>[Espresso]</td>\n",
       "      <td>2.00</td>\n",
       "      <td>4.9</td>\n",
       "      <td>Espresso_shot.webp</td>\n",
       "    </tr>\n",
       "  </tbody>\n",
       "</table>\n",
       "</div>"
      ],
      "text/plain": [
       "                      name category  \\\n",
       "0               Cappuccino   Coffee   \n",
       "1       Jumbo Savory Scone   Bakery   \n",
       "2                    Latte   Coffee   \n",
       "3  Chocolate Chip Biscotti   Bakery   \n",
       "4            Espresso shot   Coffee   \n",
       "\n",
       "                                         description  \\\n",
       "0  A rich and creamy cappuccino made with freshly...   \n",
       "1  Deliciously flaky and buttery, this jumbo savo...   \n",
       "2  Smooth and creamy, our latte combines rich esp...   \n",
       "3  Crunchy and delightful, this chocolate chip bi...   \n",
       "4  A bold shot of rich espresso, our espresso is ...   \n",
       "\n",
       "                                         ingredients  price  rating  \\\n",
       "0                [Espresso, Steamed Milk, Milk Foam]   4.50     4.7   \n",
       "1  [Flour, Butter, Cheese, Herbs, Baking Powder, ...   3.25     4.3   \n",
       "2                [Espresso, Steamed Milk, Milk Foam]   4.75     4.8   \n",
       "3  [Flour, Sugar, Chocolate Chips, Eggs, Almonds,...   2.50     4.6   \n",
       "4                                         [Espresso]   2.00     4.9   \n",
       "\n",
       "              image_path  \n",
       "0         cappuccino.jpg  \n",
       "1       SavoryScone.webp  \n",
       "2              Latte.jpg  \n",
       "3  chocolat_biscotti.jpg  \n",
       "4     Espresso_shot.webp  "
      ]
     },
     "execution_count": 8,
     "metadata": {},
     "output_type": "execute_result"
    }
   ],
   "source": [
    "# Dataframe dos produtos\n",
    "products_df = pd.read_json(\"products/products.json\", lines=True)\n",
    "\n",
    "products_df.head()"
   ]
  },
  {
   "cell_type": "code",
   "execution_count": 9,
   "id": "d3a628a1",
   "metadata": {},
   "outputs": [],
   "source": [
    "# Função para fazer upload da imagem\n",
    "def upload_image(bucket, image_path):\n",
    "    # Nome da imagem: pegar o nome do arquivo (desconsiderando o caminho)\n",
    "    image_name = image_path.split(\"/\")[-1]\n",
    "    # Criar o blob (objeto) no bucket\n",
    "    blob = bucket.blob(f\"product_images/{image_name}\") # Caminho da imagem + nome da imagem\n",
    "\n",
    "    # Upload image\n",
    "    blob.upload_from_filename(image_path)\n",
    "\n",
    "    # Tornar imagem pública e obter sua URL\n",
    "    blob.make_public()\n",
    "    return blob.public_url"
   ]
  },
  {
   "cell_type": "code",
   "execution_count": 10,
   "id": "418a5720",
   "metadata": {},
   "outputs": [],
   "source": [
    "for index, row in products_df.iterrows():\n",
    "    # Obter imagem\n",
    "    image_path = os.path.join(image_folder_path, row[\"image_path\"])\n",
    "    # URL da imagem no bucket\n",
    "    image_url = upload_image(bucket, image_path)\n",
    "\n",
    "    # Dados do produto\n",
    "    product_data = row.to_dict() # converter df para dicionário\n",
    "    product_data.pop(\"image_path\")\n",
    "    # Adicionar URL da imagem no bucket\n",
    "    product_data[\"image_url\"] = image_url\n",
    "\n",
    "    # Adicionar ao Firebase\n",
    "    products_collection.push().set(product_data)"
   ]
  }
 ],
 "metadata": {
  "kernelspec": {
   "display_name": "Python 3",
   "language": "python",
   "name": "python3"
  },
  "language_info": {
   "codemirror_mode": {
    "name": "ipython",
    "version": 3
   },
   "file_extension": ".py",
   "mimetype": "text/x-python",
   "name": "python",
   "nbconvert_exporter": "python",
   "pygments_lexer": "ipython3",
   "version": "3.13.3"
  }
 },
 "nbformat": 4,
 "nbformat_minor": 5
}
