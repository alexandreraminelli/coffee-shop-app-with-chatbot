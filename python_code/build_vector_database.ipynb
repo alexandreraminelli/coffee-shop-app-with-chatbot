{
 "cells": [
  {
   "cell_type": "markdown",
   "id": "f3b7ae1a",
   "metadata": {},
   "source": [
    "# Construir banco de dados vetorial\n",
    "Obtêm dados do JSON de produtos e efetua o push pro database"
   ]
  },
  {
   "cell_type": "markdown",
   "id": "c389e8f5",
   "metadata": {},
   "source": [
    "## Preparar ambiente"
   ]
  },
  {
   "cell_type": "code",
   "execution_count": null,
   "id": "3405bdde",
   "metadata": {},
   "outputs": [],
   "source": [
    "# Instalar dependências\n",
    "#!pip install pinecone"
   ]
  },
  {
   "cell_type": "code",
   "execution_count": 4,
   "id": "027c7d21",
   "metadata": {},
   "outputs": [],
   "source": [
    "from pinecone import Pinecone, ServerlessSpec\n",
    "import openai\n",
    "import pandas as pd\n",
    "import os\n",
    "import dotenv"
   ]
  },
  {
   "cell_type": "markdown",
   "id": "fc69e049",
   "metadata": {},
   "source": [
    "### Variáveis de ambiente"
   ]
  },
  {
   "cell_type": "code",
   "execution_count": 10,
   "id": "8aff6da5",
   "metadata": {},
   "outputs": [
    {
     "data": {
      "text/plain": [
       "True"
      ]
     },
     "execution_count": 10,
     "metadata": {},
     "output_type": "execute_result"
    }
   ],
   "source": [
    "dotenv.load_dotenv()"
   ]
  },
  {
   "cell_type": "code",
   "execution_count": 14,
   "id": "ef020611",
   "metadata": {},
   "outputs": [],
   "source": [
    "token = os.getenv(\"OPENROUTER_API_KEY\") # token do OpenRouter\n",
    "model_name = os.getenv(\"MODEL_NAME\") # nome do modelo\n",
    "\n",
    "pinecone_api_key = os.getenv(\"PINECODE_API_KEY\") # token do Pinecone\n",
    "pinecode_index_name = os.getenv(\"PINECODE_INDEX_NAME\")  # nome do índice do Pinecone"
   ]
  },
  {
   "cell_type": "markdown",
   "id": "59e2dde6",
   "metadata": {},
   "source": [
    "### Iniciar Pinecode"
   ]
  },
  {
   "cell_type": "code",
   "execution_count": 15,
   "id": "cc7aaea9",
   "metadata": {},
   "outputs": [],
   "source": [
    "pc = Pinecone(api_key=pinecone_api_key)\n",
    "\n",
    "# client = OpenAI(api_key=token, base_url=open_ai_base_url)"
   ]
  }
 ],
 "metadata": {
  "kernelspec": {
   "display_name": "Python 3",
   "language": "python",
   "name": "python3"
  },
  "language_info": {
   "codemirror_mode": {
    "name": "ipython",
    "version": 3
   },
   "file_extension": ".py",
   "mimetype": "text/x-python",
   "name": "python",
   "nbconvert_exporter": "python",
   "pygments_lexer": "ipython3",
   "version": "3.13.3"
  }
 },
 "nbformat": 4,
 "nbformat_minor": 5
}
