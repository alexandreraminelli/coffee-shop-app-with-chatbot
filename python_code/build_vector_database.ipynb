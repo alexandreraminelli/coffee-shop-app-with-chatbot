{
 "cells": [
  {
   "cell_type": "markdown",
   "id": "f3b7ae1a",
   "metadata": {},
   "source": [
    "# Construir banco de dados vetorial\n",
    "Obtêm dados do JSON de produtos e efetua o push pro database"
   ]
  },
  {
   "cell_type": "markdown",
   "id": "c389e8f5",
   "metadata": {},
   "source": [
    "## Preparar ambiente"
   ]
  },
  {
   "cell_type": "code",
   "execution_count": 1,
   "id": "3405bdde",
   "metadata": {},
   "outputs": [],
   "source": [
    "# Instalar dependências\n",
    "#!pip install pinecone"
   ]
  },
  {
   "cell_type": "code",
   "execution_count": 2,
   "id": "027c7d21",
   "metadata": {},
   "outputs": [
    {
     "name": "stderr",
     "output_type": "stream",
     "text": [
      "c:\\Users\\aleju\\AppData\\Local\\Programs\\Python\\Python313\\Lib\\site-packages\\tqdm\\auto.py:21: TqdmWarning: IProgress not found. Please update jupyter and ipywidgets. See https://ipywidgets.readthedocs.io/en/stable/user_install.html\n",
      "  from .autonotebook import tqdm as notebook_tqdm\n"
     ]
    }
   ],
   "source": [
    "from pinecone import Pinecone, ServerlessSpec\n",
    "import openai\n",
    "import pandas as pd\n",
    "import os\n",
    "import dotenv\n",
    "from sentence_transformers import SentenceTransformer # para embeddings"
   ]
  },
  {
   "cell_type": "markdown",
   "id": "fc69e049",
   "metadata": {},
   "source": [
    "### Variáveis de ambiente"
   ]
  },
  {
   "cell_type": "code",
   "execution_count": 3,
   "id": "8aff6da5",
   "metadata": {},
   "outputs": [
    {
     "data": {
      "text/plain": [
       "True"
      ]
     },
     "execution_count": 3,
     "metadata": {},
     "output_type": "execute_result"
    }
   ],
   "source": [
    "dotenv.load_dotenv()"
   ]
  },
  {
   "cell_type": "code",
   "execution_count": 4,
   "id": "ef020611",
   "metadata": {},
   "outputs": [],
   "source": [
    "token = os.getenv(\"OPENROUTER_API_KEY\") # token do OpenRouter\n",
    "model_name = os.getenv(\"MODEL_NAME\") # nome do modelo\n",
    "\n",
    "pinecone_api_key = os.getenv(\"PINECODE_API_KEY\") # token do Pinecone\n",
    "pinecode_index_name = os.getenv(\"PINECODE_INDEX_NAME\")  # nome do índice do Pinecone\n",
    "\n",
    "# Modelo de embedding\n",
    "embedding_model = os.getenv(\"EMBEDDING_MODEL_NAME\")\n",
    "# Carregar modelo localmente\n",
    "embedding_client = SentenceTransformer(embedding_model)"
   ]
  },
  {
   "cell_type": "markdown",
   "id": "59e2dde6",
   "metadata": {},
   "source": [
    "### Iniciar Pinecode"
   ]
  },
  {
   "cell_type": "code",
   "execution_count": 5,
   "id": "cc7aaea9",
   "metadata": {},
   "outputs": [],
   "source": [
    "pc = Pinecone(api_key=pinecone_api_key)\n",
    "\n",
    "# client = OpenAI(api_key=token, base_url=open_ai_base_url)"
   ]
  },
  {
   "cell_type": "markdown",
   "id": "4ac0aedd",
   "metadata": {},
   "source": [
    "# Teste de embeddings"
   ]
  },
  {
   "cell_type": "markdown",
   "id": "518274fe",
   "metadata": {},
   "source": [
    "Gerar **embeddings vetoriais** (transformar texto em vetores de números):"
   ]
  },
  {
   "cell_type": "code",
   "execution_count": 21,
   "id": "d7312e83",
   "metadata": {},
   "outputs": [
    {
     "name": "stdout",
     "output_type": "stream",
     "text": [
      "[ 1.51960850e-02 -2.25706734e-02  8.54711980e-03 -7.41705820e-02\n",
      "  3.83639405e-03  2.71344697e-03 -3.12679186e-02  4.46339697e-02\n",
      "  4.40551378e-02 -7.87114259e-03 -2.52007879e-02 -3.33665088e-02\n",
      "  1.44279227e-02  4.65381928e-02  8.55509657e-03 -1.61457192e-02\n",
      "  7.40579702e-03 -1.90124381e-02 -1.14726298e-01 -1.81576442e-02\n",
      "  1.26359358e-01  2.97029372e-02  2.52810232e-02 -3.42178792e-02\n",
      " -4.09996919e-02  6.61730114e-03  1.02706430e-02  2.23622601e-02\n",
      "  4.43633646e-03 -1.27309680e-01 -1.61492061e-02 -2.03801412e-02\n",
      "  4.72120903e-02  1.15798796e-02  6.81871623e-02  7.29864091e-03\n",
      " -1.78529993e-02  4.07821722e-02 -1.02694668e-02  2.37570591e-02\n",
      "  1.06028914e-02 -2.85843518e-02  8.15969706e-03 -1.51805691e-02\n",
      "  3.08962502e-02 -6.59799501e-02 -2.21965052e-02  5.40237539e-02\n",
      "  2.54224031e-03  2.24527121e-02 -9.16537493e-02 -4.51403186e-02\n",
      " -4.19208128e-03 -5.62152732e-03 -5.38092293e-03  9.83934850e-02\n",
      "  6.05247915e-02  7.42288399e-03  1.39386216e-02  2.68772594e-03\n",
      "  4.75693829e-02  2.86365803e-02 -1.55344144e-01  6.89369962e-02\n",
      "  3.02481856e-02 -1.79397352e-02  2.09771320e-02  2.14087516e-02\n",
      "  1.40810907e-02  1.87777705e-03  2.67214212e-03  3.87235265e-03\n",
      "  4.11638133e-02  6.58951178e-02 -6.15191367e-03 -1.64653398e-02\n",
      "  8.19474738e-03 -4.89555486e-02 -2.11134851e-02 -3.08492389e-02\n",
      " -4.04769965e-02  5.92610091e-02  1.81652140e-02 -4.42942008e-02\n",
      "  7.03442493e-04 -2.79078465e-02 -4.06387374e-02 -1.12537351e-02\n",
      " -2.49808822e-02  9.65140387e-03 -1.74919683e-02 -2.72963960e-02\n",
      " -1.52903507e-02 -5.39711770e-03 -4.14383039e-02  7.15533644e-03\n",
      "  7.10713677e-03  9.74912941e-03  6.18064485e-04  3.44040334e-01\n",
      " -9.53938067e-02 -2.02523265e-03  2.80928593e-02 -9.13631916e-02\n",
      "  5.95841371e-02  2.49091983e-02 -1.63856633e-02 -2.91186143e-02\n",
      " -8.36276263e-03  1.56925879e-02  1.28415823e-02 -6.42815158e-02\n",
      "  1.45010417e-02 -1.37407938e-02  1.05200429e-03 -1.96810961e-02\n",
      "  5.00337556e-02 -2.80845747e-03  9.32045132e-02 -2.94924695e-02\n",
      " -8.04367103e-03  3.07250842e-02 -4.39799652e-02 -4.20446694e-03\n",
      "  5.28662428e-02 -6.44988418e-02  5.81997745e-02  7.76135325e-02\n",
      "  1.16162430e-02  6.97841123e-02 -5.40951360e-03  5.98344058e-02\n",
      " -2.63525359e-02 -8.66030715e-03  2.75548082e-02 -1.43343527e-02\n",
      " -1.82215329e-02 -1.39421253e-02  3.55449878e-02 -5.67667298e-02\n",
      "  8.17366038e-03 -7.67237246e-02 -2.25768201e-02 -1.12845697e-01\n",
      "  3.38977232e-04  3.03814933e-02 -7.33374879e-02  2.45456584e-02\n",
      " -1.96199957e-02 -2.40860060e-02 -3.89381945e-02  7.86931887e-02\n",
      "  4.94580856e-03 -1.63291916e-02  7.77985202e-03  5.50906584e-02\n",
      " -1.27738193e-02  6.84186518e-02  7.77580217e-03  8.76326486e-03\n",
      " -1.83578371e-03 -1.24380672e-02 -1.32715907e-02  6.66540116e-03\n",
      " -1.77990515e-02 -1.28146842e-01  9.99290776e-03  1.94348302e-02\n",
      " -7.24330405e-03  8.53031874e-04  3.28184525e-03  1.65553652e-02\n",
      " -3.95972617e-02  2.89041754e-02  1.09648407e-01  7.51247769e-03\n",
      " -4.08224296e-03  4.45712321e-02 -4.72517386e-02  2.51012016e-02\n",
      "  6.00976385e-02 -5.09146936e-02 -4.16883305e-02  1.90890599e-02\n",
      "  2.82753929e-02 -2.53342669e-02 -2.08025333e-02 -3.04817054e-02\n",
      "  6.23419657e-02  6.70787692e-02 -2.30846312e-02  1.06494036e-02\n",
      " -3.19175795e-02 -3.42448354e-02 -8.42171460e-02  3.37140961e-03\n",
      "  3.39697339e-02 -8.10805112e-02  1.34649770e-02 -2.15244796e-02\n",
      "  1.46212921e-01  5.30410931e-02  4.02478501e-03  2.87657473e-02\n",
      "  5.53605496e-04  4.20943554e-03  4.06441763e-02  6.17251312e-03\n",
      "  4.48748916e-02  1.33969048e-02 -2.42759753e-02 -1.51741309e-02\n",
      "  7.31194615e-02 -6.56034937e-03  2.19388288e-02 -4.29536663e-02\n",
      " -9.96074732e-03  7.46108592e-02  2.38777120e-02  4.71256338e-02\n",
      " -3.97658832e-02  1.07745891e-02 -2.21505556e-02 -2.62377292e-01\n",
      "  1.80346221e-02  8.21609329e-03 -3.41664185e-03 -3.47577035e-02\n",
      "  2.29678582e-02  3.80674899e-02 -5.16096093e-02  1.01826742e-01\n",
      " -9.04852245e-03  8.70674178e-02 -5.96380830e-02 -8.33010860e-03\n",
      " -3.65121812e-02  1.75708346e-02  2.31954660e-02 -1.41765857e-02\n",
      "  1.60113890e-02 -1.00978026e-02 -2.27100011e-02  2.86225379e-02\n",
      "  2.29657851e-02  4.34048139e-02 -4.76228110e-02  4.44301255e-02\n",
      " -5.96770197e-02  1.46560445e-01  8.37219208e-02 -2.02429332e-02\n",
      "  2.41934266e-02  3.63502093e-02 -2.79559139e-02 -9.28494334e-03\n",
      " -1.19862005e-01 -2.55388748e-02  7.36322999e-02 -3.46493684e-02\n",
      " -6.72772750e-02 -9.65831205e-02 -2.22835243e-02 -1.24298763e-02\n",
      "  1.37725985e-02 -4.09378409e-02 -4.33100434e-03 -2.41425838e-02\n",
      " -7.48146176e-02 -5.26169576e-02  9.80025437e-03 -5.20673953e-02\n",
      " -1.24550909e-02 -1.16914632e-02  2.23501250e-02  5.71446009e-02\n",
      "  6.00013658e-02  1.90165564e-02 -4.59493212e-02  1.66729372e-03\n",
      " -6.48912566e-04 -1.14968112e-02  3.23784761e-02 -1.46627203e-02\n",
      " -2.22208723e-02  1.58594158e-02 -3.66354994e-02  1.15335695e-02\n",
      "  3.50696780e-02 -6.10636026e-02 -2.48836000e-02  4.98194508e-02\n",
      " -1.74327604e-02 -1.81231648e-02 -3.57170925e-02  2.12307945e-02\n",
      " -1.64801404e-02  3.63069065e-02  1.41978348e-02 -4.50114347e-03\n",
      " -2.32993867e-02 -3.98217626e-02 -2.81739738e-02 -5.50379790e-03\n",
      "  1.14111397e-02  5.83623536e-02  1.42372577e-02  3.27100083e-02\n",
      "  5.40924929e-02  6.46907985e-02  7.72249978e-03  3.54517810e-02\n",
      " -1.60534810e-02 -1.29508115e-02  4.12238166e-02 -5.37692290e-03\n",
      " -6.98096305e-02  1.13140568e-02  1.61013734e-02 -2.95010149e-01\n",
      "  2.77767386e-02 -2.96496274e-03  2.13931557e-02  4.06598626e-03\n",
      "  2.11635940e-02  4.11217026e-02 -4.15434159e-04 -5.73229976e-02\n",
      "  2.23105531e-02 -7.74224326e-02  2.03808080e-02  1.62585471e-02\n",
      " -6.68938756e-02  8.15796724e-04  2.02084929e-02 -2.45497492e-03\n",
      " -1.10085690e-02  1.70560069e-02 -1.94960497e-02  2.04796321e-03\n",
      "  2.21575703e-02  2.29879245e-01 -2.30195411e-02  5.67015894e-02\n",
      "  3.90696637e-02 -9.25624557e-03  4.57521435e-03  5.47891892e-02\n",
      "  1.92591753e-02 -9.81374457e-02 -1.52100503e-04  3.15125771e-02\n",
      " -1.56742763e-02  3.54057588e-02  1.09352823e-02 -6.79895207e-02\n",
      " -2.89324429e-02  2.40288246e-02 -5.31032532e-02 -2.50053983e-02\n",
      "  2.23543253e-02 -4.60191146e-02  7.04076663e-02  3.45590003e-02\n",
      " -7.73315206e-02 -1.35287885e-02 -4.89450358e-02 -3.99244716e-03\n",
      "  3.73489000e-02 -2.81567127e-02 -7.96701014e-02  5.71105257e-03\n",
      "  3.20590287e-02 -3.04832403e-02  1.50313657e-02  1.47595704e-02\n",
      " -9.08162631e-03  1.61402989e-02 -6.34354204e-02  2.13074759e-02\n",
      " -6.12165732e-03  4.93229143e-02  2.27539558e-02  2.60680877e-02]\n",
      "\n",
      "Tamanho do vetor embedding:  384\n"
     ]
    }
   ],
   "source": [
    "# Se usar RunPod: \n",
    "# output = client.embeddings.create(input=[\"Hello World!\"], model=model_name)\n",
    "# embedding = output.data[0].embedding\n",
    "\n",
    "# Chama o modelo de embedding para transformar o texto em um valor numérico\n",
    "output = embedding_client.encode(\n",
    "    sentences=[\"Hello world\"], # Lista de sentenças que serão codificadas\n",
    "    convert_to_numpy=True # Converte a saída para um array do NumPy\n",
    ")\n",
    "# Como o sentence possui apenas 1 string, o output será um array 1D (1, 384), então acessamos o primeiro (e único) elemento do array\n",
    "embedding = output[0]\n",
    "\n",
    "print(embedding)\n",
    "print(\"\\nTamanho do vetor embedding: \", len(embedding))"
   ]
  },
  {
   "cell_type": "markdown",
   "id": "bc7709a1",
   "metadata": {},
   "source": []
  },
  {
   "cell_type": "code",
   "execution_count": null,
   "id": "1d1766fe",
   "metadata": {},
   "outputs": [],
   "source": []
  }
 ],
 "metadata": {
  "kernelspec": {
   "display_name": "Python 3",
   "language": "python",
   "name": "python3"
  },
  "language_info": {
   "codemirror_mode": {
    "name": "ipython",
    "version": 3
   },
   "file_extension": ".py",
   "mimetype": "text/x-python",
   "name": "python",
   "nbconvert_exporter": "python",
   "pygments_lexer": "ipython3",
   "version": "3.13.3"
  }
 },
 "nbformat": 4,
 "nbformat_minor": 5
}
