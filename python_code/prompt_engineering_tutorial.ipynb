{
 "cells": [
  {
   "cell_type": "markdown",
   "id": "108fdda4",
   "metadata": {},
   "source": [
    "# Preparação do ambiente"
   ]
  },
  {
   "cell_type": "markdown",
   "id": "2222b902",
   "metadata": {},
   "source": [
    "## Instalação de dependências"
   ]
  },
  {
   "cell_type": "code",
   "execution_count": 71,
   "id": "8588a29b",
   "metadata": {},
   "outputs": [],
   "source": [
    "# !pip install pandas\n",
    "# !pip install python-dotenv\n",
    "# !pip install requests\n",
    "# !pip install openai==0.28.1"
   ]
  },
  {
   "cell_type": "markdown",
   "id": "1bd48c06",
   "metadata": {},
   "source": [
    "## Importação das bibliotecas"
   ]
  },
  {
   "cell_type": "code",
   "execution_count": null,
   "id": "823782ef",
   "metadata": {},
   "outputs": [],
   "source": [
    "# Importação das bibliotecas\n",
    "import os\n",
    "import openai\n",
    "from dotenv import load_dotenv"
   ]
  },
  {
   "cell_type": "markdown",
   "id": "960a1813",
   "metadata": {},
   "source": [
    "## Carregar variáveis de ambiente"
   ]
  },
  {
   "cell_type": "code",
   "execution_count": 73,
   "id": "09b23a56",
   "metadata": {},
   "outputs": [
    {
     "data": {
      "text/plain": [
       "True"
      ]
     },
     "execution_count": 73,
     "metadata": {},
     "output_type": "execute_result"
    }
   ],
   "source": [
    "load_dotenv()"
   ]
  },
  {
   "cell_type": "markdown",
   "id": "08174436",
   "metadata": {},
   "source": [
    "## Configuração do OpenRouter"
   ]
  },
  {
   "cell_type": "code",
   "execution_count": 74,
   "id": "de7f698f",
   "metadata": {},
   "outputs": [],
   "source": [
    "openai.api_key = os.getenv(\"OPENROUTER_API_KEY\") # API Key do OpenRouter\n",
    "openai.api_base = \"https://openrouter.ai/api/v1\" # URL da API do OpenRouter"
   ]
  },
  {
   "cell_type": "code",
   "execution_count": 75,
   "id": "81a5dfc6",
   "metadata": {},
   "outputs": [],
   "source": [
    "# Modelo do OpenRouter\n",
    "model_name = \"meta-llama/llama-3.1-8b-instruct:free\""
   ]
  },
  {
   "cell_type": "markdown",
   "id": "1463df14",
   "metadata": {},
   "source": [
    "# Obter resposta do LLM"
   ]
  },
  {
   "cell_type": "code",
   "execution_count": 76,
   "id": "fc6cc8ee",
   "metadata": {},
   "outputs": [],
   "source": [
    "# Função para enviar uma pergunta e obter uma resposta do modelo\n",
    "def get_chatbot_response(messages, system_prompt=\"\", temperature=0, model=model_name):\n",
    "    # Type check do messages\n",
    "    if not isinstance(messages, list):\n",
    "        raise TypeError(\"messages deve ser uma lista\")\n",
    "\n",
    "    # Lista de mensagens pro modelo\n",
    "    input_messages = []\n",
    "    for message in messages:\n",
    "        # Adicionar dicionário à lista\n",
    "        input_messages.append({\n",
    "            \"role\": message[\"role\"], # Quem está falando (usuário ou sistema)\n",
    "            \"content\": message[\"content\"] # Conteúdo da mensagem\n",
    "        })\n",
    "\n",
    "    response = openai.ChatCompletion.create(\n",
    "        model=model, # Modelo de IA\n",
    "        # Lista de mensagens\n",
    "        messages=input_messages,\n",
    "        # Temperatura: quantidade de aleatoriedade na resposta\n",
    "        temperature=temperature, # 0 pois queremos resultados concretos\n",
    "        top_p=0.8,\n",
    "        max_tokens=2_000, # Limite de tokens na resposta\n",
    "        # Token: unidade de medida do modelo de IA (palavras, sub-palavras, caracteres, ...)\n",
    "    ).choices[0].message.content.strip()\n",
    "\n",
    "    return response # Retornar resposta ao usuário"
   ]
  },
  {
   "cell_type": "code",
   "execution_count": 77,
   "id": "1566050e",
   "metadata": {},
   "outputs": [
    {
     "name": "stdout",
     "output_type": "stream",
     "text": [
      "Usuário: Qual é a capital da Austrália?\n",
      "ChatBot: A capital da Austrália é Canberra.\n"
     ]
    }
   ],
   "source": [
    "# Teste da função\n",
    "msgs_usuario = [{\"role\": \"user\", \"content\": \"Qual é a capital da Austrália?\"}]\n",
    "resposta = get_chatbot_response(msgs_usuario)\n",
    "print(f\"Usuário: {msgs_usuario[0]['content']}\\nChatBot: {resposta}\")"
   ]
  },
  {
   "cell_type": "markdown",
   "id": "95d67771",
   "metadata": {},
   "source": [
    "# Engenharia de Prompt"
   ]
  },
  {
   "cell_type": "markdown",
   "id": "fafa8fac",
   "metadata": {},
   "source": [
    "## Structured output\n",
    "Armazena a resposta do chatbot em um formato estruturado (como CSV ou JSON) para poder ser utilizado em outros sistemas/aplicações (como React Native)."
   ]
  },
  {
   "cell_type": "markdown",
   "id": "7267b04b",
   "metadata": {},
   "source": [
    "### System Prompt\n",
    "Prompt dado ao LLM que define seu comportamento."
   ]
  },
  {
   "cell_type": "code",
   "execution_count": 78,
   "id": "743aeed9",
   "metadata": {},
   "outputs": [],
   "source": [
    "system_prompt = \"\"\"\n",
    "Você é um assistente prestativo que responde perguntas sobre capitais de países.\n",
    "\n",
    "Seu output deve ser um formato JSON estruturado exatamente como no exemplo abaixo. Você não tem permissão de escrever qualquer outra coisa além do objeto JSON.\n",
    "[\n",
    "    {\n",
    "        \"country\": O país que o usuário perguntou a capital,\n",
    "        \"capital\": A capital do país que o usuário perguntou,\n",
    "    }\n",
    "]\n",
    "\"\"\""
   ]
  },
  {
   "cell_type": "code",
   "execution_count": 83,
   "id": "e66aa8db",
   "metadata": {},
   "outputs": [
    {
     "name": "stdout",
     "output_type": "stream",
     "text": [
      "[\n",
      "    {\n",
      "        \"country\": \"Nova Zelândia\",\n",
      "        \"capital\": \"Wellington\"\n",
      "    }\n",
      "]\n",
      "Data type: <class 'str'>\n"
     ]
    }
   ],
   "source": [
    "# Teste do system_prompt\n",
    "messages = [\n",
    "    {\"role\": \"system\", \"content\": system_prompt},\n",
    "    {\"role\": \"user\", \"content\": \"Qual é a capital da Nova Zelândia?\"}]\n",
    "resposta = get_chatbot_response(messages, system_prompt=system_prompt)\n",
    "print(resposta)\n",
    "print(\"Data type:\", type(resposta))"
   ]
  },
  {
   "cell_type": "code",
   "execution_count": 80,
   "id": "caa906c4",
   "metadata": {},
   "outputs": [
    {
     "name": "stdout",
     "output_type": "stream",
     "text": [
      "[\n",
      "    {\n",
      "        \"country\": \"Fran\\u00e7a\",\n",
      "        \"capital\": \"Paris\"\n",
      "    },\n",
      "    {\n",
      "        \"country\": \"Brasil\",\n",
      "        \"capital\": \"Bras\\u00edlia\"\n",
      "    }\n",
      "]\n"
     ]
    }
   ],
   "source": [
    "# Teste 2\n",
    "messages = [\n",
    "    {\"role\": \"system\", \"content\": system_prompt},\n",
    "    {\"role\": \"user\", \"content\": \"Qual é a capital da França e do Brasil?\"}]\n",
    "print(get_chatbot_response(messages, system_prompt=system_prompt))"
   ]
  }
 ],
 "metadata": {
  "kernelspec": {
   "display_name": "Python 3",
   "language": "python",
   "name": "python3"
  },
  "language_info": {
   "codemirror_mode": {
    "name": "ipython",
    "version": 3
   },
   "file_extension": ".py",
   "mimetype": "text/x-python",
   "name": "python",
   "nbconvert_exporter": "python",
   "pygments_lexer": "ipython3",
   "version": "3.13.3"
  }
 },
 "nbformat": 4,
 "nbformat_minor": 5
}
