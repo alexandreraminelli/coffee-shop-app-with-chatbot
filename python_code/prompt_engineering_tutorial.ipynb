{
 "cells": [
  {
   "cell_type": "markdown",
   "id": "2222b902",
   "metadata": {},
   "source": [
    "Instalação de dependências:"
   ]
  },
  {
   "cell_type": "code",
   "execution_count": 30,
   "id": "8588a29b",
   "metadata": {},
   "outputs": [],
   "source": [
    "# !pip install pandas\n",
    "# !pip install python-dotenv\n",
    "# !pip install openai\n",
    "# !pip install replicate"
   ]
  },
  {
   "cell_type": "code",
   "execution_count": 31,
   "id": "823782ef",
   "metadata": {},
   "outputs": [
    {
     "data": {
      "text/plain": [
       "True"
      ]
     },
     "execution_count": 31,
     "metadata": {},
     "output_type": "execute_result"
    }
   ],
   "source": [
    "# Importação das bibliotecas\n",
    "import replicate\n",
    "import os\n",
    "from dotenv import load_dotenv\n",
    "\n",
    "# Carregar variáveis de ambiente\n",
    "load_dotenv()"
   ]
  },
  {
   "cell_type": "code",
   "execution_count": 34,
   "id": "2d9a194b",
   "metadata": {},
   "outputs": [],
   "source": [
    "# Autenticação no Replicate\n",
    "replicate_api_key = os.getenv(\"REPLICATE_API_KEY\") # obtêm token no .env\n",
    "\n",
    "# Autenticação \n",
    "client = replicate.Client(api_token=replicate_api_key)"
   ]
  },
  {
   "cell_type": "code",
   "execution_count": 37,
   "id": "69a6c39e",
   "metadata": {},
   "outputs": [
    {
     "name": "stdout",
     "output_type": "stream",
     "text": [
      "Olá! Bem-vindo ao chatbot do Restaurante da Esquina! Estou aqui para ajudá-lo com suas necessidades e esclarecer quaisquer dúvidas que tenha sobre nossos serviços e cardápio.\n",
      "\n",
      "Você gostaria de fazer uma reserva, saber mais sobre nossos pratos ou algo mais?"
     ]
    }
   ],
   "source": [
    "\n",
    "input = {\n",
    "    \"prompt\": \"Finja ser o chatbot de um restaurante.\", # prompt de entrada\n",
    "    \"max_new_tokens\": 512, # número máximo de tokens a serem gerados\n",
    "    # template de prompt:\n",
    "    \"prompt_template\": \"<|begin_of_text|><|start_header_id|>system<|end_header_id|>\\n\\n{system_prompt}<|eot_id|><|start_header_id|>user<|end_header_id|>\\n\\n{prompt}<|eot_id|><|start_header_id|>assistant<|end_header_id|>\\n\\n\" \n",
    "}\n",
    "\n",
    "for event in client.stream(\n",
    "    \"meta/meta-llama-3-8b-instruct\",\n",
    "    input=input\n",
    "):\n",
    "    print(event, end=\"\")\n",
    "# => \"The number of parameters in a neural network can impact ..."
   ]
  }
 ],
 "metadata": {
  "kernelspec": {
   "display_name": "Python 3",
   "language": "python",
   "name": "python3"
  },
  "language_info": {
   "codemirror_mode": {
    "name": "ipython",
    "version": 3
   },
   "file_extension": ".py",
   "mimetype": "text/x-python",
   "name": "python",
   "nbconvert_exporter": "python",
   "pygments_lexer": "ipython3",
   "version": "3.13.3"
  }
 },
 "nbformat": 4,
 "nbformat_minor": 5
}
