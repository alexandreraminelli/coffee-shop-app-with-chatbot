{
 "cells": [
  {
   "cell_type": "markdown",
   "id": "108fdda4",
   "metadata": {},
   "source": [
    "# Preparação do ambiente"
   ]
  },
  {
   "cell_type": "markdown",
   "id": "2222b902",
   "metadata": {},
   "source": [
    "## Instalação de dependências"
   ]
  },
  {
   "cell_type": "code",
   "execution_count": null,
   "id": "8588a29b",
   "metadata": {},
   "outputs": [],
   "source": [
    "# !pip install pandas\n",
    "# !pip install python-dotenv\n",
    "# !pip install requests\n",
    "# !pip install openai==0.28.1"
   ]
  },
  {
   "cell_type": "markdown",
   "id": "1bd48c06",
   "metadata": {},
   "source": [
    "## Importação das bibliotecas"
   ]
  },
  {
   "cell_type": "code",
   "execution_count": 30,
   "id": "823782ef",
   "metadata": {},
   "outputs": [],
   "source": [
    "# Importação das bibliotecas\n",
    "import os\n",
    "import openai\n",
    "from dotenv import load_dotenv\n",
    "import json\n",
    "from sklearn.metrics.pairwise import cosine_similarity\n",
    "from sentence_transformers import SentenceTransformer"
   ]
  },
  {
   "cell_type": "markdown",
   "id": "960a1813",
   "metadata": {},
   "source": [
    "## Carregar variáveis de ambiente"
   ]
  },
  {
   "cell_type": "code",
   "execution_count": 2,
   "id": "09b23a56",
   "metadata": {},
   "outputs": [
    {
     "data": {
      "text/plain": [
       "True"
      ]
     },
     "execution_count": 2,
     "metadata": {},
     "output_type": "execute_result"
    }
   ],
   "source": [
    "load_dotenv()"
   ]
  },
  {
   "cell_type": "markdown",
   "id": "08174436",
   "metadata": {},
   "source": [
    "## Configuração do OpenRouter"
   ]
  },
  {
   "cell_type": "code",
   "execution_count": 3,
   "id": "de7f698f",
   "metadata": {},
   "outputs": [],
   "source": [
    "openai.api_key = os.getenv(\"OPENROUTER_API_KEY\") # API Key do OpenRouter\n",
    "openai.api_base = \"https://openrouter.ai/api/v1\" # URL da API do OpenRouter"
   ]
  },
  {
   "cell_type": "code",
   "execution_count": 4,
   "id": "81a5dfc6",
   "metadata": {},
   "outputs": [],
   "source": [
    "# Modelo do OpenRouter\n",
    "model_name = \"meta-llama/llama-3.1-8b-instruct:free\""
   ]
  },
  {
   "cell_type": "markdown",
   "id": "1463df14",
   "metadata": {},
   "source": [
    "# Obter resposta do LLM"
   ]
  },
  {
   "cell_type": "code",
   "execution_count": 5,
   "id": "fc6cc8ee",
   "metadata": {},
   "outputs": [],
   "source": [
    "# Função para enviar uma pergunta e obter uma resposta do modelo\n",
    "def get_chatbot_response(messages, system_prompt=\"\", temperature=0, model=model_name):\n",
    "    # Type check do messages\n",
    "    if not isinstance(messages, list):\n",
    "        raise TypeError(\"messages deve ser uma lista\")\n",
    "\n",
    "    # Lista de mensagens pro modelo\n",
    "    input_messages = []\n",
    "    for message in messages:\n",
    "        # Adicionar dicionário à lista\n",
    "        input_messages.append({\n",
    "            \"role\": message[\"role\"], # Quem está falando (usuário ou sistema)\n",
    "            \"content\": message[\"content\"] # Conteúdo da mensagem\n",
    "        })\n",
    "\n",
    "    response = openai.ChatCompletion.create(\n",
    "        model=model, # Modelo de IA\n",
    "        # Lista de mensagens\n",
    "        messages=input_messages,\n",
    "        # Temperatura: quantidade de aleatoriedade na resposta\n",
    "        temperature=temperature, # 0 pois queremos resultados concretos\n",
    "        top_p=0.8,\n",
    "        max_tokens=2_000, # Limite de tokens na resposta\n",
    "        # Token: unidade de medida do modelo de IA (palavras, sub-palavras, caracteres, ...)\n",
    "    ).choices[0].message.content.strip()\n",
    "\n",
    "    return response # Retornar resposta ao usuário"
   ]
  },
  {
   "cell_type": "code",
   "execution_count": null,
   "id": "1566050e",
   "metadata": {},
   "outputs": [],
   "source": [
    "# Teste da função\n",
    "msgs_usuario = [{\"role\": \"user\", \"content\": \"Qual é a capital da Austrália?\"}]\n",
    "resposta = get_chatbot_response(msgs_usuario)\n",
    "print(f\"Usuário: {msgs_usuario[0]['content']}\\nChatBot: {resposta}\")"
   ]
  },
  {
   "cell_type": "markdown",
   "id": "95d67771",
   "metadata": {},
   "source": [
    "# Engenharia de Prompt"
   ]
  },
  {
   "cell_type": "markdown",
   "id": "fafa8fac",
   "metadata": {},
   "source": [
    "## Structured output\n",
    "Armazena a resposta do chatbot em um formato estruturado (como CSV ou JSON) para poder ser utilizado em outros sistemas/aplicações (como React Native)."
   ]
  },
  {
   "cell_type": "markdown",
   "id": "7267b04b",
   "metadata": {},
   "source": [
    "### System Prompt\n",
    "Prompt dado ao LLM que define seu comportamento."
   ]
  },
  {
   "cell_type": "code",
   "execution_count": null,
   "id": "743aeed9",
   "metadata": {},
   "outputs": [],
   "source": [
    "system_prompt = \"\"\"\n",
    "Você é um assistente prestativo que responde perguntas sobre capitais de países.\n",
    "\n",
    "Seu output deve ser um formato JSON estruturado exatamente como no exemplo abaixo. Você não tem permissão de escrever qualquer outra coisa além do objeto JSON.\n",
    "[\n",
    "    {\n",
    "        \"country\": O país que o usuário perguntou a capital,\n",
    "        \"capital\": A capital do país que o usuário perguntou,\n",
    "    }\n",
    "]\n",
    "\"\"\"\n",
    "\n",
    "system_prompt_message = {\"role\": \"system\", \"content\": system_prompt}"
   ]
  },
  {
   "cell_type": "code",
   "execution_count": null,
   "id": "e66aa8db",
   "metadata": {},
   "outputs": [],
   "source": [
    "# Teste do system_prompt\n",
    "messages = [\n",
    "    system_prompt_message,\n",
    "    {\"role\": \"user\", \"content\": \"Qual é a capital da Nova Zelândia?\"}]\n",
    "resposta = get_chatbot_response(messages, system_prompt=system_prompt)\n",
    "print(resposta)\n",
    "print(\"Data type:\", type(resposta))\n",
    "\n",
    "# Converter resposta para JSON\n",
    "json_resposta = json.loads(resposta)\n",
    "print(\"\\nJSON:\", json_resposta)\n",
    "print(\"Data type:\", type(json_resposta))\n",
    "print(\"Data type do objeto da lista:\", type(json_resposta[0]))\n",
    "\n",
    "# Retornar apenas a capital\n",
    "print(\"\\nCapital:\", json_resposta[0][\"capital\"])"
   ]
  },
  {
   "cell_type": "code",
   "execution_count": null,
   "id": "caa906c4",
   "metadata": {},
   "outputs": [],
   "source": [
    "# Teste 2\n",
    "messages = [\n",
    "    system_prompt_message,\n",
    "    {\"role\": \"user\", \"content\": \"Qual é a capital da França e do Brasil?\"}]\n",
    "resposta = json.loads(get_chatbot_response(messages, system_prompt=system_prompt))\n",
    "print(resposta)\n",
    "print(\"Data type:\", type(resposta))\n",
    "print(\"Data type do objeto da lista:\", type(resposta[0]))"
   ]
  },
  {
   "cell_type": "markdown",
   "id": "3fc22b37",
   "metadata": {},
   "source": [
    "## Input Structuring"
   ]
  },
  {
   "cell_type": "code",
   "execution_count": null,
   "id": "ba6da596",
   "metadata": {},
   "outputs": [],
   "source": [
    "user_input = \"\"\"\n",
    "Obtenha para mim a capital dos seguintes países:\n",
    "```\n",
    "1. Itália\n",
    "2. Alemanha\n",
    "3. Canadá\n",
    "4. Bélgica\n",
    "```\n",
    "\"\"\"\n",
    "\n",
    "messages = [\n",
    "    system_prompt_message,\n",
    "    {\"role\": \"user\", \"content\": user_input}]\n",
    "response = get_chatbot_response(messages)\n",
    "print(json.loads(response))"
   ]
  },
  {
   "cell_type": "markdown",
   "id": "55197817",
   "metadata": {},
   "source": [
    "## Dê tempo ao modelo para pensar: Chain-of-thought (CoT)\n",
    "Aumenta a previsão das respostas e reduz a chance de erros."
   ]
  },
  {
   "cell_type": "markdown",
   "id": "d4161d19",
   "metadata": {},
   "source": [
    "### Sem CoT:"
   ]
  },
  {
   "cell_type": "code",
   "execution_count": null,
   "id": "5d916313",
   "metadata": {},
   "outputs": [],
   "source": [
    "# Exemplo: equação matemática\n",
    "user_prompt = \"\"\"\n",
    "Calcule o resultado dessa equação: 259/1*8654+91072*33-12971\n",
    "\n",
    "Seu output deve ser um JSON estruturado exatamente igual o exemplo abaixo. Você não tem permissão de escrever qualquer outra coisa além do objeto JSON (nem mesmo o passo a passo da resolução).\n",
    "[{\n",
    "    result: O número final resultado do cálculo da equação acima.\n",
    "\n",
    "}]\n",
    "\"\"\"\n",
    "messages = [{\"role\": \"user\", \"content\": user_prompt}]\n",
    "response = json.loads(get_chatbot_response(messages, system_prompt=system_prompt))\n",
    "print(response)"
   ]
  },
  {
   "cell_type": "code",
   "execution_count": null,
   "id": "24da5ef5",
   "metadata": {},
   "outputs": [],
   "source": [
    "resultado_real = 259/1*8654+91072*33-12971 # Resultado correto\n",
    "print(\"Resultado correto:\", resultado_real)\n",
    "print(\"Margem de erro:\", (response[\"result\"] - resultado_real)) # Margem de erro"
   ]
  },
  {
   "cell_type": "markdown",
   "id": "8230c91e",
   "metadata": {},
   "source": [
    "### Com CoT"
   ]
  },
  {
   "cell_type": "code",
   "execution_count": null,
   "id": "e5568ff9",
   "metadata": {},
   "outputs": [],
   "source": [
    "# Exemplo: equação matemática com etapas\n",
    "user_prompt = \"\"\"\n",
    "Calcule o resultado dessa equação: 259/1*8654+91072*33-12971\n",
    "\n",
    "Seu output deve ser um JSON estruturado exatamente igual o exemplo abaixo. Você não tem permissão de escrever qualquer outra coisa além do objeto JSON:\n",
    "[{\n",
    "    step: Aqui, você resolve a equação aos poucos, seguindo a ordem de operações BEDMAS. Você precisa mostrar seu trabalho e calcular cada etapa que leva ao resultado final. Sinta-se à vontade para escrever em texto livre.\n",
    "    result: O número final resultado do cálculo da equação acima. O número deve ser um inteiro ou float.\n",
    "}]\n",
    "\"\"\"\n",
    "messages = [{\"role\": \"user\", \"content\": user_prompt}]\n",
    "response = \"[\" + get_chatbot_response(messages, system_prompt=system_prompt) + \"]\""
   ]
  },
  {
   "cell_type": "code",
   "execution_count": null,
   "id": "ed8c2280",
   "metadata": {},
   "outputs": [],
   "source": [
    "print(response)"
   ]
  },
  {
   "cell_type": "code",
   "execution_count": null,
   "id": "e0d8680b",
   "metadata": {},
   "outputs": [],
   "source": [
    "print(\"Resultado real:\", resultado_real)\n",
    "print(\"Resultado do modelo:\", response[\"result\"])\n",
    "print(\"Margem de erro:\", (response[\"result\"] - resultado_real)) # Margem de erro"
   ]
  },
  {
   "cell_type": "markdown",
   "id": "e131452e",
   "metadata": {},
   "source": [
    "# RAG: Retrieval Augmented Generation\n",
    "Ajuda o modelo a gerar output de informações que não possui na sua memória.\n",
    "\n",
    ">Ex: cardápio do restaurante\n",
    "\n",
    "Essas informações devem ser injetadas no prompt para o chatbot poder responder de acordo."
   ]
  },
  {
   "cell_type": "code",
   "execution_count": 9,
   "id": "ad6187ee",
   "metadata": {},
   "outputs": [
    {
     "name": "stdout",
     "output_type": "stream",
     "text": [
      "A Apple anunciou o iPhone 14, não o iPhone 16. O iPhone 14 foi lançado em setembro de 2022 e traz várias melhorias em relação ao seu antecessor, incluindo:\n",
      "\n",
      "1. **Design**: O iPhone 14 tem um design renovado, com uma nova cor chamada \"Starlight\" e uma tela de 6,1 polegadas com uma resolução de 1170 x 2536 pixels.\n",
      "2. **Processador**: O iPhone 14 é equipado com o processador A16 Bionic, que oferece uma melhoria significativa na performance e na eficiência energética.\n",
      "3. **Câmera**: A câmera principal do iPhone 14 tem uma resolução de 48 MP, com uma lente ultra-grand angular e uma lente teleobjetiva. Além disso, a câmera também tem uma função de estabilização de imagem melhorada.\n",
      "4. **Bateria**: A bateria do iPhone 14 é mais grande do que a do iPhone 13, o que significa que você pode usar o seu telefone por mais tempo sem precisar recarregar.\n",
      "5. **Carregamento rápido**: O iPhone 14 suporta carregamento rápido de até 20W, o que é mais rápido do que o carregamento rápido de 18W do iPhone 13.\n",
      "6. **Sistema operacional**: O iPhone 14 vem com o iOS 16, que oferece várias novas funcionalidades, incluindo uma interface de usuário renovada e melhorias na segurança.\n",
      "7. **Preço**: O preço do iPhone 14 é semelhante ao do iPhone 13, com preços que variam de R$ 3.999 a R$ 6.999, dependendo da configuração.\n",
      "\n",
      "É importante notar que a Apple ainda não anunciou o iPhone 16, então não há informações disponíveis sobre as características e especificações desse modelo.\n"
     ]
    }
   ],
   "source": [
    "# Teste: perguntar sobre algo não existente quando o modelo foi treinado\n",
    "user_prompt = \"\"\"\n",
    "O que há de novo no iPhone 16?\n",
    "\"\"\"\n",
    "messages = [{\"role\": \"user\", \"content\": user_prompt}]\n",
    "\n",
    "response = get_chatbot_response(messages)\n",
    "\n",
    "print(response)"
   ]
  },
  {
   "cell_type": "code",
   "execution_count": 10,
   "id": "09bfd3c1",
   "metadata": {},
   "outputs": [],
   "source": [
    "# Informações adicionais\n",
    "iphone16 = \"\"\"\n",
    "The iPhone 16 introduces several exciting updates, making it one of Apple's most advanced smartphones to date. It features a larger 6.1-inch display for the base model and a 6.7-inch screen for the iPhone 16 Plus, with thinner bezels and a more durable Ceramic Shield. The iPhone 16 Pro and Pro Max boast even larger displays, measuring 6.3 and 6.9 inches respectively, offering the thinnest bezels seen on any Apple product so far.\n",
    "\n",
    "Powered by the new A18 chip (A18 Pro for the Pro models), these phones deliver significant performance improvements, with enhanced neural engine capabilities, faster GPU for gaming, and machine learning tasks. The camera systems are also upgraded, with the base iPhone 16 sporting a dual-camera setup with a 48MP main sensor. The Pro models offer a 48MP Ultra Wide and 5x telephoto camera, enhanced by Apple’s \"Camera Control\" button for more flexible photography options.\n",
    "\n",
    "Apple also introduced advanced audio features like \"Audio Mix,\" which uses machine learning to separate background sounds from speech, allowing for more refined audio capture during video recording. Battery life has been extended, especially in the iPhone 16 Pro Max, which is claimed to have the longest-lasting battery of any iPhone \n",
    "9TO5MAC\n",
    "\n",
    "APPLEMAGAZINE\n",
    ".\n",
    "\n",
    "Additionally, Apple has switched to USB-C for faster charging and data transfer, and the Pro models now support up to 2x faster video encoding. The starting prices remain consistent with previous generations, with the iPhone 16 starting at $799, while the Pro models start at $999.\n",
    "\"\"\""
   ]
  },
  {
   "cell_type": "code",
   "execution_count": 11,
   "id": "626d989b",
   "metadata": {},
   "outputs": [
    {
     "name": "stdout",
     "output_type": "stream",
     "text": [
      "O iPhone 16 apresenta várias atualizações emocionantes, tornando-o um dos smartphones mais avançados da Apple até o momento. Algumas das novidades incluem:\n",
      "\n",
      "* Tela maior: o modelo básico tem uma tela de 6,1 polegadas e o iPhone 16 Plus tem uma tela de 6,7 polegadas, com bordos mais finos e um Shield Cerâmico mais resistente.\n",
      "* Processador A18 (A18 Pro para os modelos Pro): oferece melhorias significativas de desempenho, com capacidades de motor de neurônios aprimoradas, GPU mais rápido para jogos e tarefas de aprendizado de máquina.\n",
      "* Sistema de câmera atualizado: o modelo básico tem um sistema de câmera duplo com sensor principal de 48MP, enquanto os modelos Pro têm um sensor Ultra Wide de 48MP e uma câmera telefotográfica de 5x, com o botão \"Camera Control\" para mais opções de fotografia flexíveis.\n",
      "* Áudio avançado: o recurso \"Audio Mix\" usa aprendizado de máquina para separar sons de fundo da fala, permitindo captura de áudio mais refinada durante a gravação de vídeo.\n",
      "* Bateria mais longa: o iPhone 16 Pro Max tem a bateria mais longa de qualquer iPhone.\n",
      "* Conector USB-C: permite carregamento e transferência de dados mais rápido.\n",
      "* Suporte a codificação de vídeo mais rápida: os modelos Pro podem codificar vídeos em até 2x mais rápido.\n",
      "\n",
      "Além disso, os preços de partida permanecem consistentes com as gerações anteriores, com o iPhone 16 começando a partir de $799 e os modelos Pro começando a partir de $999.\n"
     ]
    }
   ],
   "source": [
    "# Prompt incluindo informações adicionais\n",
    "user_prompt = f\"\"\"\n",
    "{iphone16}\n",
    "\n",
    "O que há de novo no iPhone 16?\n",
    "\"\"\"\n",
    "messages = [{\"role\": \"user\", \"content\": user_prompt}]\n",
    "\n",
    "response = get_chatbot_response(messages)\n",
    "\n",
    "print(response)"
   ]
  },
  {
   "cell_type": "markdown",
   "id": "e36d2aa8",
   "metadata": {},
   "source": [
    "### Extrair automaticamente dados de contexto do banco de dados"
   ]
  },
  {
   "cell_type": "markdown",
   "id": "6d25045e",
   "metadata": {},
   "source": [
    "**Embedding:** Processo de mudanças de um texto para uma matriz de números para depois fazer uma operação matemática que verifica se dois textos são semelhantes ou diferentes."
   ]
  },
  {
   "cell_type": "code",
   "execution_count": 12,
   "id": "369d8882",
   "metadata": {},
   "outputs": [],
   "source": [
    "# Teste\n",
    "samsung23 = \"\"\"\n",
    "The Samsung Galaxy S23 brings some incremental but notable upgrades to its predecessor, the Galaxy S22. It features the Snapdragon 8 Gen 2 processor, a powerful chip optimized for the S23 series, delivering enhanced performance, especially for gaming and multitasking. This chip ensures top-tier speed and efficiency across all models, from the base S23 to the larger S23+ and S23 Ultra​\n",
    "STUFF\n",
    "\n",
    "TECHRADAR\n",
    ".\n",
    "\n",
    "In terms of design, the S23's camera module has been streamlined by removing the raised metal contour around the cameras, creating a cleaner, sleeker look. It also sports the same 6.1-inch 120Hz AMOLED display, protected by tougher Gorilla Glass Victus 2, making it more resistant to scratches and drops​\n",
    "TECHRADAR\n",
    ".\n",
    "\n",
    "The S23 Ultra stands out with its 200MP main camera, offering impressive photo clarity, especially in low-light conditions. The selfie camera across the series has been updated to a 12MP sensor, resulting in sharper selfies. The Ultra model also includes productivity tools such as the S-Pen, which remains an essential feature for note-taking and creative tasks​\n",
    "STUFF\n",
    "\n",
    "TECHRADAR\n",
    ".\n",
    "\n",
    "Battery life is solid, with the S23 Ultra featuring a 5000mAh battery that lasts comfortably through a day of heavy use. However, charging speeds still lag behind some competitors, with 45W wired charging, which is slower than other brands offering up to 125W charging​\n",
    "STUFF\n",
    ".\n",
    "\n",
    "Overall, the Galaxy S23 series enhances performance, durability, and camera quality, making it a strong contender for users seeking a high-performance flagship.\n",
    "\n",
    "\"\"\""
   ]
  },
  {
   "cell_type": "code",
   "execution_count": 13,
   "id": "f6156afc",
   "metadata": {},
   "outputs": [],
   "source": [
    "data = [iphone16, samsung23]"
   ]
  },
  {
   "cell_type": "code",
   "execution_count": 50,
   "id": "86c21639",
   "metadata": {},
   "outputs": [],
   "source": [
    "user_prompt = f\"\"\"\n",
    "O que há de novo no iPhone 16?\n",
    "\"\"\""
   ]
  },
  {
   "cell_type": "code",
   "execution_count": 51,
   "id": "0122e8f6",
   "metadata": {},
   "outputs": [],
   "source": [
    "# Modelo de embedding\n",
    "embedding_model = \"BAAI/bge-small-en-v1.5\"\n",
    "# Carregar modelo localmente\n",
    "embedding_client = SentenceTransformer(embedding_model)"
   ]
  },
  {
   "cell_type": "code",
   "execution_count": 52,
   "id": "33192e17",
   "metadata": {},
   "outputs": [],
   "source": [
    "# Função para obter os embeddings\n",
    "def get_embedding(embedding_client, embedding_model, text_input):\n",
    "    # Se for uma string, transforma em lista\n",
    "    if isinstance(text_input, str):\n",
    "        text_input = [text_input]\n",
    "    \n",
    "    # Gerar embeddings\n",
    "    embeddings = embedding_client.encode(text_input, convert_to_numpy=True)\n",
    "    # Retornar embeddings\n",
    "    return embeddings"
   ]
  },
  {
   "cell_type": "code",
   "execution_count": 53,
   "id": "4ffc70cb",
   "metadata": {},
   "outputs": [
    {
     "name": "stdout",
     "output_type": "stream",
     "text": [
      "[[-4.83366027e-02  2.14187801e-02  4.58678864e-02 -1.13048293e-02\n",
      "  -2.79313605e-02 -4.58465219e-02  2.00635642e-02  4.64338437e-02\n",
      "  -3.04769035e-02  5.64293144e-03  5.10987863e-02 -2.05539465e-02\n",
      "  -2.60537472e-02 -2.04901434e-02  8.54229331e-02  5.00899889e-02\n",
      "   8.67976621e-02 -7.68268779e-02 -3.72335687e-02  1.24540897e-02\n",
      "  -1.71125401e-02 -4.44358736e-02 -4.59065586e-02 -3.50812711e-02\n",
      "   9.41397157e-03  4.60619256e-02 -1.12431562e-02  1.29006933e-02\n",
      "  -1.32150454e-02 -1.35516062e-01 -1.03941374e-02  2.65004802e-02\n",
      "   3.47601436e-02  5.81780709e-02  2.37790477e-02 -3.54762934e-02\n",
      "  -1.84392221e-02  3.04669105e-02  3.22139263e-02  9.09115896e-02\n",
      "   2.43219435e-02  2.17773803e-02 -9.95147452e-02 -1.97999105e-02\n",
      "   3.97775881e-02  1.18633471e-02  2.65844073e-02  5.15497662e-02\n",
      "   8.52345396e-03  1.38412905e-03  1.46200936e-02  6.23488910e-02\n",
      "  -4.11889935e-03 -3.58895883e-02  2.61343792e-02  5.10657541e-02\n",
      "   5.18704718e-03 -1.61395613e-02  4.15528715e-02  3.89984734e-02\n",
      "   9.23724771e-02  7.75965583e-03 -1.91535488e-01  4.68284562e-02\n",
      "   1.59012116e-02  2.39448734e-02 -2.12278049e-02 -8.74719918e-02\n",
      "  -5.30240424e-02 -5.19569591e-02 -2.93668006e-02  3.12194973e-02\n",
      "   3.22239287e-02  9.81175676e-02  1.27589852e-02  6.44829199e-02\n",
      "   1.20327808e-02  1.04056029e-02 -5.58346398e-02 -8.68811738e-04\n",
      "   7.87413046e-02  2.03026235e-02  1.62724815e-02 -1.52834244e-02\n",
      "  -1.60982776e-02 -8.06078836e-02 -1.02294702e-02  2.27600113e-02\n",
      "  -5.37536889e-02 -1.11330375e-01 -2.21458413e-02  5.20554632e-02\n",
      "   6.00662231e-02  2.98114456e-02 -8.48856121e-02 -5.00257080e-03\n",
      "   1.53581016e-02  2.65611219e-04 -4.93285246e-02  3.10741007e-01\n",
      "  -3.56080197e-02  1.36656957e-02  9.18553695e-02 -4.82706130e-02\n",
      "   1.48275699e-02 -5.21303341e-02 -1.90133434e-02 -7.44687542e-02\n",
      "  -1.31864166e-02  4.65770699e-02 -5.20300791e-02 -1.83327850e-02\n",
      "   8.43719840e-02 -1.80910453e-02  3.06666046e-02 -2.46223382e-04\n",
      "   4.05052025e-03  4.60890355e-03  5.96288182e-02  9.43445321e-03\n",
      "  -2.78570615e-02  2.58095618e-02 -2.20347419e-02 -1.38191152e-02\n",
      "  -5.25422348e-03 -8.02233145e-02 -3.28638852e-02  7.32416809e-02\n",
      "  -1.66360512e-02  3.58241908e-02 -1.66948754e-02  8.59808549e-03\n",
      "  -5.56776822e-02  5.83967566e-02  2.32906453e-02  8.28027073e-03\n",
      "  -8.63679219e-03 -1.76933538e-02 -3.17792371e-02 -2.92054601e-02\n",
      "  -3.39100659e-02 -5.97140789e-02  8.28763694e-02  2.96589523e-03\n",
      "   3.30850761e-03 -8.27543531e-03  3.51135954e-02  3.73500362e-02\n",
      "  -1.18169300e-02  2.30802945e-03 -3.15686800e-02  2.80432533e-02\n",
      "   3.24297436e-02  3.61260995e-02 -1.35890273e-02  1.43018635e-02\n",
      "   1.80702489e-02 -1.74592882e-02 -1.96293946e-02  2.30908673e-02\n",
      "  -3.02287471e-02 -2.81141717e-02 -4.26282100e-02  8.71886760e-02\n",
      "  -1.53181385e-02 -8.80867764e-02  1.78893488e-02  3.35315131e-02\n",
      "  -1.58284865e-02 -6.38480671e-03 -1.91244986e-02 -4.97272722e-02\n",
      "   8.56246334e-03  4.41560894e-02  4.35851365e-02 -4.41663451e-02\n",
      "   1.65191479e-02  7.32711256e-02 -6.53426945e-02  5.16659173e-04\n",
      "  -4.34156209e-02 -4.89770323e-02 -6.31501749e-02  4.98463959e-02\n",
      "   4.41076867e-02 -1.64767988e-02  5.97811416e-02 -8.92994832e-03\n",
      "   1.00469075e-01  2.10994743e-02  1.02979634e-02  9.32417437e-02\n",
      "  -4.52662259e-02 -1.59631222e-02 -6.60517765e-03  4.14611772e-02\n",
      "   4.38815169e-03 -6.89509558e-03  1.56071950e-02 -6.11036010e-02\n",
      "   8.58321786e-02  2.95914002e-02 -5.53702563e-03  3.22675798e-03\n",
      "   8.85229632e-02  2.84431558e-02  1.99252181e-03 -4.33938466e-02\n",
      "   7.72533845e-03  1.14320992e-02  8.15753546e-03  1.00717889e-02\n",
      "   1.29457802e-01  1.84553284e-02  9.39765293e-03 -2.81194709e-02\n",
      "  -3.31344195e-02  8.93095434e-02 -1.83681566e-02  2.83091558e-05\n",
      "   3.08897370e-03 -1.51740098e-02  2.94512976e-02 -2.46486947e-01\n",
      "   5.86731471e-02 -4.18900885e-02 -4.12287749e-02 -5.01195714e-02\n",
      "  -4.47013509e-03 -1.42649794e-02 -6.93188608e-02  1.02422461e-01\n",
      "   2.49452814e-02  6.44911602e-02  2.91596502e-02  3.80635485e-02\n",
      "   1.08704157e-01  7.05814501e-03 -8.93061608e-03 -1.84913389e-02\n",
      "  -2.34992541e-02  2.16234550e-02 -4.08490226e-02 -3.82961221e-02\n",
      "   7.91547354e-03  4.44700718e-02 -4.18761149e-02  4.76553477e-03\n",
      "  -9.16480273e-02  1.18361905e-01  5.42092323e-02 -1.75182242e-02\n",
      "  -5.77715971e-03  8.20881501e-02  5.60772493e-02 -7.30028376e-02\n",
      "  -9.09919739e-02 -2.39999196e-03  2.23469920e-02  6.90477788e-02\n",
      "   4.86418791e-02 -1.00112380e-02 -7.88052753e-02  3.90223302e-02\n",
      "  -1.73819382e-02  5.18276952e-02 -1.53948041e-02  7.70432409e-03\n",
      "  -1.92664023e-02 -2.18219534e-02  4.05936502e-02 -8.91678333e-02\n",
      "  -2.07508281e-02 -7.92393833e-03  4.02754508e-02  7.69556388e-02\n",
      "   1.91329159e-02 -1.82279740e-02 -4.02752757e-02 -9.60627049e-02\n",
      "   1.64513271e-02  1.59369328e-03 -1.32508762e-02 -4.31999974e-02\n",
      "   5.18042920e-03 -8.60204026e-02 -1.07275315e-01  1.10052517e-02\n",
      "   2.36052405e-02 -2.14726385e-02 -8.81380737e-02 -5.49154170e-02\n",
      "  -1.69157945e-02  4.71495576e-02  2.89883874e-02 -1.74080189e-02\n",
      "   2.82529145e-02  1.94932614e-02 -1.65534411e-02  5.04990928e-02\n",
      "  -6.26773238e-02  2.43998934e-02 -4.62519415e-02 -1.63729805e-02\n",
      "   3.53620201e-02  7.19475821e-02 -1.75010990e-02  1.65689997e-02\n",
      "   4.02319580e-02  8.03505778e-02 -3.88200879e-02  2.79954839e-02\n",
      "  -4.12575006e-02  2.39108484e-02 -5.38348705e-02 -2.39078850e-02\n",
      "  -7.43149891e-02  3.64786126e-02 -3.79885472e-02 -2.13544950e-01\n",
      "  -6.86466519e-04 -3.11077498e-02  3.94063480e-02 -8.07373691e-03\n",
      "  -4.22805082e-04  3.65838339e-03 -2.10576728e-02 -2.70303339e-02\n",
      "   4.64770868e-02 -2.83091925e-02 -8.27509835e-02  3.29451822e-02\n",
      "  -4.65756319e-02  3.67772579e-02 -1.80787072e-02  2.30135955e-02\n",
      "   3.92657407e-02  3.90851460e-02 -2.20103022e-02  5.01437858e-03\n",
      "  -3.35058756e-02  1.08225971e-01 -9.04856995e-02 -9.49609932e-03\n",
      "   4.01088409e-02 -2.92668883e-02 -3.44290817e-03 -1.63595453e-02\n",
      "  -9.77290142e-03 -2.92427149e-02  4.31700004e-03  8.29958394e-02\n",
      "   5.31008579e-02 -2.05494612e-02  1.18019339e-03 -8.09639171e-02\n",
      "  -4.58998568e-02  8.51809233e-03 -3.35014192e-04 -9.73545164e-02\n",
      "  -3.14152986e-03 -7.67462477e-02  1.47897087e-03  7.75045753e-02\n",
      "  -5.73412441e-02 -1.64041575e-02  3.53556275e-02 -2.92834081e-02\n",
      "   1.68493036e-02  1.27002532e-02 -2.03593839e-02  9.29170288e-03\n",
      "   6.39098734e-02  1.86389070e-02 -6.92791641e-02 -3.54854092e-02\n",
      "  -3.46336104e-02  1.39357103e-02  1.09394211e-02  2.16444135e-02\n",
      "   2.73724776e-02  1.85302366e-02 -1.08168330e-02  8.43131263e-03]]\n",
      "\n",
      "Tamanho do vetor de embedding: (1, 384)\n"
     ]
    }
   ],
   "source": [
    "# Teste da função de embeddings\n",
    "user_prompt_embedding = get_embedding(embedding_client, embedding_model, user_prompt)\n",
    "print(user_prompt_embedding)\n",
    "\n",
    "print(\"\\nTamanho do vetor de embedding:\", user_prompt_embedding.shape)"
   ]
  },
  {
   "cell_type": "code",
   "execution_count": 54,
   "id": "074eb270",
   "metadata": {},
   "outputs": [
    {
     "name": "stdout",
     "output_type": "stream",
     "text": [
      "[array([-6.68698847e-02,  3.26296426e-02,  4.09968756e-02, -2.52709002e-03,\n",
      "       -3.83168049e-02,  1.11468183e-02,  2.93546580e-02,  1.77761279e-02,\n",
      "        4.18668576e-02,  5.58414720e-02,  8.22484270e-02, -1.35688193e-03,\n",
      "       -6.02875613e-02,  3.89838126e-03,  4.12556492e-02,  6.07227609e-02,\n",
      "        1.34707943e-01, -1.73485070e-01, -4.75846455e-02,  5.06558595e-03,\n",
      "        3.75499241e-02, -4.50500287e-02, -1.01545285e-02, -2.11867318e-02,\n",
      "        3.87785397e-02,  4.21463996e-02, -1.01517942e-02, -1.06640011e-02,\n",
      "        1.29632521e-02, -1.82909235e-01,  1.38680777e-02,  1.24545852e-02,\n",
      "        4.87405062e-02,  1.04251783e-02, -5.52052334e-02,  1.65027066e-03,\n",
      "       -3.36267762e-02, -1.09609971e-02,  3.51494588e-02,  4.75456789e-02,\n",
      "       -1.64484500e-03,  6.14748709e-02, -3.81678939e-02,  1.01085305e-02,\n",
      "        1.45128658e-02,  3.46328393e-02,  1.67133491e-02, -6.12372532e-02,\n",
      "       -1.10574830e-02, -1.06300684e-02,  4.30383198e-02, -2.49003861e-02,\n",
      "        3.81095055e-03, -4.14961092e-02,  2.54055997e-03, -1.14683826e-02,\n",
      "        1.20292325e-03,  6.36128802e-03,  4.25430164e-02,  1.53368656e-02,\n",
      "        1.75345615e-02, -4.60097119e-02, -1.44693449e-01,  6.56837747e-02,\n",
      "        6.61289960e-04,  2.47994754e-02, -1.05980281e-02, -5.91539517e-02,\n",
      "       -2.01020744e-02, -3.25560495e-02, -5.07326284e-03, -5.20495605e-03,\n",
      "        5.34791052e-02,  2.78613102e-02, -4.53517325e-02,  1.66014954e-02,\n",
      "        5.81559204e-02, -1.17768254e-02, -1.20676914e-02, -7.65668601e-03,\n",
      "        5.16081639e-02, -4.95269783e-02, -2.63809841e-02,  1.58864018e-02,\n",
      "        3.75311524e-02, -5.35154231e-02,  3.92662026e-02, -1.53676458e-02,\n",
      "       -1.95263848e-02, -5.59338108e-02, -5.31063750e-02, -5.27502503e-03,\n",
      "       -4.22779769e-02,  1.36235810e-03, -5.80561571e-02, -3.28857563e-02,\n",
      "        5.55954315e-02, -6.71933964e-02, -1.32198567e-02,  3.16834688e-01,\n",
      "        1.64527912e-02,  2.42591873e-02,  8.88536498e-02, -7.50621334e-02,\n",
      "        3.11080236e-02, -4.68106456e-02, -4.11957428e-02,  3.19972336e-02,\n",
      "       -5.71101382e-02,  2.38985065e-02, -3.86599600e-02,  3.50971557e-02,\n",
      "        3.69401537e-02,  4.21384126e-02,  2.29645651e-02, -3.65913287e-03,\n",
      "        3.34599093e-02,  9.33952071e-03,  7.89847896e-02,  5.52694965e-03,\n",
      "       -1.00210970e-02,  1.98353101e-02, -5.21619432e-03,  5.15436241e-03,\n",
      "       -5.78377582e-02, -4.28040735e-02,  2.66012643e-02,  7.33232871e-02,\n",
      "        1.49162824e-03,  1.26395014e-03,  4.16338407e-02, -4.15862761e-02,\n",
      "       -4.94780689e-02,  5.61691001e-02,  5.97091876e-02, -7.74614215e-02,\n",
      "        2.04755161e-02,  1.27560440e-02,  4.69309241e-02,  1.13861253e-02,\n",
      "       -7.33329952e-02,  1.47702657e-02,  6.20672144e-02, -6.71478137e-02,\n",
      "       -6.72915727e-02,  5.14379553e-02, -4.05025035e-02,  1.48839718e-02,\n",
      "       -1.34439273e-02, -2.38867011e-02, -1.95051935e-02,  8.30231532e-02,\n",
      "        5.46597354e-02,  5.75056951e-03,  1.93738192e-02,  6.42331317e-02,\n",
      "        2.85141403e-03, -1.49190240e-02, -5.09015620e-02,  2.23262999e-02,\n",
      "       -6.88330904e-02,  5.24888933e-02,  3.80165619e-03,  1.40053080e-02,\n",
      "        8.67460147e-02, -1.73146218e-01,  1.38476463e-02, -1.14849200e-02,\n",
      "       -4.13815789e-02, -9.54932347e-03, -4.60039452e-02, -2.05261763e-02,\n",
      "        3.22877876e-02, -2.36417335e-02, -2.00450197e-02, -1.01082148e-02,\n",
      "       -7.26009607e-02,  1.65015496e-02,  1.54631829e-03, -9.82255209e-04,\n",
      "       -1.65407173e-02, -3.93359959e-02, -8.01156238e-02, -3.05127576e-02,\n",
      "        5.25226966e-02, -3.62063088e-02,  5.60747944e-02, -2.19376311e-02,\n",
      "        1.02054685e-01,  4.56738323e-02,  2.11291090e-02,  4.13060784e-02,\n",
      "       -4.65005524e-02,  6.47447854e-02, -4.25277762e-02, -1.05226701e-02,\n",
      "       -6.90208655e-03,  6.76458627e-02, -5.13487170e-03, -4.04966287e-02,\n",
      "        4.55138795e-02,  1.47006672e-03, -2.80021522e-02,  1.02703488e-02,\n",
      "        4.32298742e-02,  9.24136862e-03, -2.78009363e-02,  3.55985425e-02,\n",
      "        1.40339127e-02, -1.80283953e-02, -2.98769143e-03, -1.02136312e-02,\n",
      "        1.00857392e-01, -4.55933250e-02, -2.42845342e-02, -8.35239887e-02,\n",
      "       -5.51437065e-02,  5.02396375e-02,  3.55231040e-03, -2.73341150e-03,\n",
      "        3.14914100e-02, -3.66803557e-02,  4.11335342e-02, -2.73532540e-01,\n",
      "        4.11484875e-02, -4.39000539e-02,  1.50018670e-02, -4.10777610e-03,\n",
      "       -6.85879514e-02,  2.45810132e-02, -6.96396157e-02,  5.00966981e-02,\n",
      "        2.39750341e-04,  5.99103160e-02,  5.21028368e-03,  5.64898700e-02,\n",
      "        3.77613641e-02,  3.42204571e-02,  2.92856637e-02,  2.13395804e-02,\n",
      "        3.20107490e-03, -1.72546394e-02,  4.79096035e-03, -6.44129664e-02,\n",
      "        3.52933966e-02, -2.94310935e-02,  2.56533697e-02,  5.69761358e-03,\n",
      "       -3.72863039e-02,  8.39456320e-02, -5.42513467e-02,  1.35443383e-03,\n",
      "        1.90181769e-02,  1.08192284e-02,  1.93919968e-02, -2.94369832e-02,\n",
      "       -2.57602874e-02,  4.10654163e-03, -1.29541773e-02,  5.40530048e-02,\n",
      "        4.99366542e-05, -6.17869198e-02, -8.09433088e-02, -5.99337332e-02,\n",
      "        3.16837020e-02, -6.88550016e-03, -1.06365576e-01, -1.31953862e-02,\n",
      "        5.77786043e-02,  9.96924285e-03,  3.83151695e-02, -6.91483403e-03,\n",
      "       -2.07276959e-02,  1.26966778e-02,  5.63388243e-02,  1.70142334e-02,\n",
      "       -5.10505028e-02,  6.95317835e-02, -6.17535152e-02, -1.28504336e-01,\n",
      "        3.88563275e-02,  1.36917541e-02,  1.67785899e-03, -4.29877825e-02,\n",
      "       -2.93778591e-02, -8.64683092e-02, -6.06374927e-02,  5.22542279e-03,\n",
      "        1.19212642e-03, -2.80364719e-03, -7.80632049e-02, -4.74084318e-02,\n",
      "       -6.14417009e-02,  4.60452698e-02,  5.93252257e-02, -3.84852737e-02,\n",
      "       -1.36449533e-02,  5.11144511e-02,  8.28788336e-03,  1.07712612e-01,\n",
      "       -6.38801185e-03,  2.77779773e-02,  1.21313231e-02,  1.70660540e-02,\n",
      "        1.11611098e-01, -4.92606312e-03,  5.16788773e-02,  5.03364578e-02,\n",
      "        4.87632789e-02,  3.34250741e-02, -1.72052961e-02, -3.18205506e-02,\n",
      "       -9.31356568e-03,  1.51183018e-02, -2.64985356e-02,  2.85773887e-03,\n",
      "       -6.16375953e-02,  4.93713431e-02,  3.77315246e-02, -2.15997770e-01,\n",
      "        9.78842098e-03,  1.68881826e-02, -7.73090264e-03, -1.07444279e-01,\n",
      "       -3.38584930e-02, -1.31805995e-02,  1.82770751e-02, -9.85798985e-03,\n",
      "        2.06989180e-02, -5.03139496e-02, -6.92991773e-03,  1.01308012e-03,\n",
      "        1.55947488e-02,  1.88120957e-02, -2.02275962e-02,  6.99138790e-02,\n",
      "       -7.05389492e-03,  5.31195588e-02,  3.22761200e-02,  2.41448171e-02,\n",
      "       -2.25329269e-02,  4.05112468e-02, -8.41462761e-02, -3.62086762e-03,\n",
      "       -1.14898514e-02,  9.51357372e-03,  1.79395545e-02,  1.10607380e-02,\n",
      "       -2.46105157e-03, -1.42257931e-02,  3.06643713e-02,  6.16968125e-02,\n",
      "        2.94095296e-02, -3.08579616e-02,  5.61920814e-02,  2.10236642e-03,\n",
      "        1.44898565e-03, -7.09257424e-02,  4.43584472e-02,  1.15346862e-03,\n",
      "       -2.98833419e-02, -1.11728929e-01,  6.72834292e-02,  9.20712799e-02,\n",
      "       -1.79748505e-03, -8.08735751e-03,  4.67942953e-02, -1.06648570e-02,\n",
      "       -1.97932180e-02,  1.48646394e-02, -6.32288978e-02,  1.59398429e-02,\n",
      "        2.75100712e-02,  2.68895347e-02, -1.18540972e-02,  4.43974920e-02,\n",
      "        1.73305850e-02,  2.68048197e-02,  1.15507757e-02,  4.09614332e-02,\n",
      "        2.09977366e-02, -7.60096982e-02,  2.68710833e-02,  3.04989144e-02],\n",
      "      dtype=float32), array([ 1.54372929e-02, -7.07170460e-03, -3.35003845e-02, -2.96134800e-02,\n",
      "        6.01648949e-02, -3.10608856e-02, -4.55458974e-03,  2.75006313e-02,\n",
      "       -2.47300528e-02,  6.87409937e-02,  7.56801888e-02, -2.42373161e-02,\n",
      "        7.39681721e-02, -1.20966788e-02, -1.56518049e-03, -5.61242476e-02,\n",
      "        6.74778149e-02, -1.70201719e-01, -4.15435396e-02,  4.18789173e-03,\n",
      "        2.97477078e-02,  7.14543695e-03,  1.86743625e-02,  3.44942100e-02,\n",
      "        3.20992060e-02,  4.16533761e-02,  1.23543832e-02, -2.81318668e-02,\n",
      "       -2.29933094e-02, -1.91908479e-01,  4.68926989e-02,  1.76087418e-03,\n",
      "        3.96729261e-02,  5.86151183e-02, -9.29377079e-02, -7.27695599e-02,\n",
      "       -1.13874935e-02, -4.25556898e-02, -3.11841303e-03,  1.77878737e-02,\n",
      "       -4.04147990e-02,  6.98259994e-02, -3.31549458e-02,  1.35878311e-03,\n",
      "       -8.37387964e-02, -3.81376892e-02,  2.74794307e-02, -2.52407393e-03,\n",
      "        2.13906635e-02, -1.45477280e-02,  2.06312016e-02,  2.50723842e-03,\n",
      "        1.75907034e-02,  3.67268883e-02, -3.49756703e-02, -4.80446815e-02,\n",
      "        4.34282720e-02,  1.91037394e-02,  5.72609790e-02, -7.40645975e-02,\n",
      "        4.24944088e-02,  1.56082278e-02, -7.91948214e-02,  8.19418356e-02,\n",
      "       -2.58370563e-02, -4.12454531e-02, -1.32973120e-02, -3.43705155e-02,\n",
      "        1.19099626e-02, -3.49069340e-03, -1.96379479e-02,  2.60156710e-02,\n",
      "       -2.38914080e-02,  5.41134626e-02, -3.72127183e-02,  7.34820142e-02,\n",
      "        2.66096294e-02, -1.17430529e-02,  8.44081119e-03,  6.82155192e-02,\n",
      "       -3.65662463e-02, -4.62941080e-02, -4.28767838e-02,  8.62433016e-03,\n",
      "        5.35151958e-02, -2.64323000e-02,  3.69083472e-02, -8.89830571e-03,\n",
      "       -1.69014968e-02,  3.49618047e-02, -2.72021983e-02, -5.61475046e-02,\n",
      "       -7.42346644e-02, -5.32370545e-02, -8.67691338e-02, -3.41443233e-02,\n",
      "       -3.69554795e-02, -3.18710953e-02, -3.41348164e-02,  3.59198928e-01,\n",
      "       -8.25647358e-03,  6.15368262e-02,  6.80600330e-02, -3.79656181e-02,\n",
      "        7.20425099e-02,  2.80128024e-03, -4.83323261e-02, -2.83298064e-02,\n",
      "       -7.93833584e-02, -8.93844292e-03,  2.04287563e-02, -2.41913721e-02,\n",
      "       -4.93295603e-02,  5.33095673e-02,  1.62821671e-03, -3.36637199e-02,\n",
      "       -2.99098417e-02, -4.29034419e-02,  1.04935594e-01, -2.22445186e-02,\n",
      "       -5.71574010e-02,  1.58144105e-02,  3.08699533e-02, -5.61442561e-02,\n",
      "       -3.20434459e-02, -5.29351458e-02,  8.32199231e-02,  4.89114784e-02,\n",
      "       -3.35662737e-02, -6.40520453e-02,  1.16263442e-02,  5.45806251e-02,\n",
      "       -3.49522270e-02,  6.34576231e-02, -4.03667577e-02, -4.26584370e-02,\n",
      "       -1.16850920e-02,  3.76279652e-03,  2.12822910e-02, -4.32521924e-02,\n",
      "       -1.95108429e-02,  6.80819228e-02,  1.14337116e-01, -8.50409493e-02,\n",
      "       -6.72446489e-02,  4.72733378e-03, -2.88450290e-02,  2.68117562e-02,\n",
      "       -3.75097282e-02,  3.97998001e-03,  4.11165804e-02,  4.04046178e-02,\n",
      "        6.39558434e-02,  8.37743841e-03,  6.14942703e-03,  6.60004094e-02,\n",
      "        5.33298925e-02,  1.93622652e-02, -1.19440826e-02, -1.18085966e-02,\n",
      "       -2.86189225e-02,  2.12363936e-02, -6.00056686e-02,  4.28594574e-02,\n",
      "        3.03416550e-02, -1.55694336e-01,  4.13754769e-02, -2.44332524e-03,\n",
      "        2.56115161e-02,  1.76452231e-02, -3.53781134e-02,  1.69516467e-02,\n",
      "       -5.58877662e-02,  5.79736149e-03,  2.16342304e-02,  4.47033867e-02,\n",
      "       -5.41831478e-02, -8.27414356e-03, -5.31819789e-03, -1.41669801e-02,\n",
      "       -4.75293137e-02,  6.41026124e-02,  2.35622115e-02, -1.91780657e-03,\n",
      "       -2.23565176e-02, -1.68136321e-04,  1.12971328e-02,  2.60079093e-02,\n",
      "        7.12403655e-02,  3.74311209e-02, -4.16120142e-02,  8.17742944e-02,\n",
      "       -2.96008307e-02,  1.15623310e-01,  3.46670896e-02,  1.89278070e-02,\n",
      "       -2.10802704e-02, -1.41081195e-02, -1.59358419e-02, -6.52078763e-02,\n",
      "        6.12424091e-02,  3.28975134e-02,  6.76684314e-03, -2.01453939e-02,\n",
      "        4.67826650e-02,  2.31362320e-02, -2.31313333e-02,  1.97630301e-02,\n",
      "       -8.20830930e-03,  3.57730575e-02, -4.35915925e-02, -4.47096452e-02,\n",
      "        3.25705297e-02,  1.34388171e-02,  5.96014503e-03, -6.91155642e-02,\n",
      "        9.79339238e-03, -5.13249030e-03,  2.47917231e-02,  1.74843147e-02,\n",
      "       -1.12252943e-02,  2.12094542e-02, -1.57032106e-02, -2.81451911e-01,\n",
      "       -2.21047606e-02, -5.28530553e-02,  2.37788931e-02,  1.00755868e-02,\n",
      "       -3.41262408e-02,  2.11541336e-02, -6.74020573e-02,  6.43014237e-02,\n",
      "       -2.09576171e-02,  3.96736003e-02, -2.73974985e-02,  7.21585527e-02,\n",
      "       -1.75036844e-02,  3.95134352e-02,  1.64032844e-03,  3.33445631e-02,\n",
      "       -2.34719608e-02, -5.42299710e-02, -2.25209035e-02, -2.17107963e-02,\n",
      "        8.69513825e-02, -2.02488061e-02,  5.78076672e-03,  3.69620207e-03,\n",
      "        4.64877672e-02,  1.15222454e-01, -7.10623637e-02,  5.78091145e-02,\n",
      "       -3.35128605e-02, -1.87571384e-02,  2.78532617e-02,  2.42725015e-02,\n",
      "        5.81487641e-03,  2.47991867e-02, -5.23282634e-03, -1.51310163e-02,\n",
      "       -1.85310598e-02, -2.25054547e-02, -2.12877113e-02, -5.14475740e-02,\n",
      "        4.19814102e-02, -1.46764489e-02, -4.82830331e-02, -2.32063723e-03,\n",
      "       -2.84264795e-03,  2.23601498e-02, -2.04215944e-02, -1.51060587e-02,\n",
      "        1.64555069e-02,  5.50348051e-02,  3.44465077e-02, -2.73151491e-02,\n",
      "       -2.74245907e-02,  7.64319748e-02,  1.27232037e-02, -1.05044790e-01,\n",
      "        3.60346702e-03, -5.28684743e-02, -5.94688579e-02, -3.23400125e-02,\n",
      "       -6.14377186e-02, -4.38085794e-02, -1.26302503e-02,  1.68942288e-03,\n",
      "        4.09675166e-02, -1.06939776e-02, -2.44286563e-02, -1.26909334e-02,\n",
      "        1.34683317e-02,  2.07205042e-02,  6.34458959e-02, -6.81593046e-02,\n",
      "        6.15129946e-03,  6.09776191e-02, -1.50361434e-02,  8.71850029e-02,\n",
      "        2.59631053e-02, -1.13228839e-02, -4.88061123e-02,  1.63763482e-02,\n",
      "        9.28294361e-02,  1.42907575e-02,  1.05687510e-02,  6.77366555e-02,\n",
      "       -1.16551667e-03,  6.82733878e-02, -1.60321314e-02, -3.93804125e-02,\n",
      "       -1.21070733e-02, -7.03390539e-02, -1.98917333e-02,  2.50459220e-02,\n",
      "       -5.82574569e-02,  3.90738063e-02,  1.16518596e-02, -1.65272996e-01,\n",
      "       -6.76467922e-03, -1.14799547e-03,  2.92033628e-02, -3.89461294e-02,\n",
      "       -5.87413833e-02,  2.79661156e-02,  3.60111110e-02,  3.52553930e-03,\n",
      "        1.21039683e-02, -1.91115681e-02,  3.71238403e-02,  3.26961875e-02,\n",
      "        1.03981793e-01, -2.55358536e-02,  2.00873427e-02,  4.34391238e-02,\n",
      "        2.31245346e-03,  5.02870716e-02, -2.98227873e-02,  1.68215390e-02,\n",
      "        6.14630431e-03,  5.94235994e-02, -1.97402798e-02, -3.82519662e-02,\n",
      "        6.72309771e-02, -4.78680953e-02,  6.78220987e-02,  8.73155612e-03,\n",
      "        1.41707165e-02, -1.64207574e-02, -4.46080379e-02,  2.53650136e-02,\n",
      "        4.08307798e-02, -2.71313693e-02,  8.31944197e-02, -2.59974431e-02,\n",
      "        5.18936515e-02,  7.17459712e-04,  1.86789483e-02, -3.05155274e-02,\n",
      "       -1.15241306e-02, -4.60127555e-02, -2.82375887e-02,  1.23561241e-01,\n",
      "       -4.82459962e-02, -8.04962143e-02, -7.66187254e-03, -2.93657295e-02,\n",
      "       -2.27248808e-03, -1.30784512e-02, -6.29482865e-02, -1.14783421e-02,\n",
      "       -7.63862208e-03,  2.28254646e-02, -8.27740878e-03, -2.17846949e-02,\n",
      "       -1.72000006e-02,  6.64862692e-02,  3.37156802e-02,  4.02985848e-02,\n",
      "        7.52932280e-02, -3.77191156e-02,  2.29293518e-02,  4.46160734e-02],\n",
      "      dtype=float32)]\n"
     ]
    }
   ],
   "source": [
    "# Obter embeddings para os dados\n",
    "data_embeddings = [get_embedding(embedding_client, model_name, text)[0] for text in data]\n",
    "print(data_embeddings)"
   ]
  },
  {
   "cell_type": "markdown",
   "id": "32c82d99",
   "metadata": {},
   "source": [
    "Medir similaridade entre os dados do embedding e os dados do usuário:"
   ]
  },
  {
   "cell_type": "code",
   "execution_count": 55,
   "id": "add72c18",
   "metadata": {},
   "outputs": [
    {
     "name": "stdout",
     "output_type": "stream",
     "text": [
      "[[0.654349  0.4679091]]\n",
      "\tiPhone 16: 0.6543490290641785\n",
      "\tSamsung 23: 0.4679090976715088\n"
     ]
    }
   ],
   "source": [
    "# Qual embedding (iPhone 16 ou Samsung 23) é mais próximo do prompt do usuário?\n",
    "data_similarity = cosine_similarity(user_prompt_embedding, data_embeddings)\n",
    "\n",
    "print(data_similarity) # Resultado\n",
    "print(f\"\\tiPhone 16: {data_similarity[0][0]}\\n\\tSamsung 23: {data_similarity[0][1]}\")"
   ]
  },
  {
   "cell_type": "code",
   "execution_count": 56,
   "id": "1b7e383c",
   "metadata": {},
   "outputs": [
    {
     "name": "stdout",
     "output_type": "stream",
     "text": [
      "Índice do dado mais similar no vetor: 0\n",
      "\n",
      "The iPhone 16 introduces several exciting updates, making it one of Apple's most advanced smartphones to date. It features a larger 6.1-inch display for the base model and a 6.7-inch screen for the iPhone 16 Plus, with thinner bezels and a more durable Ceramic Shield. The iPhone 16 Pro and Pro Max boast even larger displays, measuring 6.3 and 6.9 inches respectively, offering the thinnest bezels seen on any Apple product so far.\n",
      "\n",
      "Powered by the new A18 chip (A18 Pro for the Pro models), these phones deliver significant performance improvements, with enhanced neural engine capabilities, faster GPU for gaming, and machine learning tasks. The camera systems are also upgraded, with the base iPhone 16 sporting a dual-camera setup with a 48MP main sensor. The Pro models offer a 48MP Ultra Wide and 5x telephoto camera, enhanced by Apple’s \"Camera Control\" button for more flexible photography options.\n",
      "\n",
      "Apple also introduced advanced audio features like \"Audio Mix,\" which uses machine learning to separate background sounds from speech, allowing for more refined audio capture during video recording. Battery life has been extended, especially in the iPhone 16 Pro Max, which is claimed to have the longest-lasting battery of any iPhone \n",
      "9TO5MAC\n",
      "\n",
      "APPLEMAGAZINE\n",
      ".\n",
      "\n",
      "Additionally, Apple has switched to USB-C for faster charging and data transfer, and the Pro models now support up to 2x faster video encoding. The starting prices remain consistent with previous generations, with the iPhone 16 starting at $799, while the Pro models start at $999.\n",
      "\n"
     ]
    }
   ],
   "source": [
    "# Verificar dado mais similar\n",
    "closest_entry_index = data_similarity.argmax() # Obtêm o índice do dado mais similar\n",
    "\n",
    "print(\"Índice do dado mais similar no vetor:\", closest_entry_index)\n",
    "print(data[closest_entry_index])"
   ]
  }
 ],
 "metadata": {
  "kernelspec": {
   "display_name": "Python 3",
   "language": "python",
   "name": "python3"
  },
  "language_info": {
   "codemirror_mode": {
    "name": "ipython",
    "version": 3
   },
   "file_extension": ".py",
   "mimetype": "text/x-python",
   "name": "python",
   "nbconvert_exporter": "python",
   "pygments_lexer": "ipython3",
   "version": "3.13.3"
  }
 },
 "nbformat": 4,
 "nbformat_minor": 5
}
