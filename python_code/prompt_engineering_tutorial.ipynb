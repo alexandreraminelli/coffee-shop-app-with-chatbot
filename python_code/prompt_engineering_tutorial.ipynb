{
 "cells": [
  {
   "cell_type": "markdown",
   "id": "108fdda4",
   "metadata": {},
   "source": [
    "# Preparação do ambiente"
   ]
  },
  {
   "cell_type": "markdown",
   "id": "2222b902",
   "metadata": {},
   "source": [
    "## Instalação de dependências"
   ]
  },
  {
   "cell_type": "code",
   "execution_count": 6,
   "id": "8588a29b",
   "metadata": {},
   "outputs": [],
   "source": [
    "# !pip install pandas\n",
    "# !pip install python-dotenv\n",
    "# !pip install requests\n",
    "# !pip install openai==0.28.1"
   ]
  },
  {
   "cell_type": "markdown",
   "id": "1bd48c06",
   "metadata": {},
   "source": [
    "## Importação das bibliotecas"
   ]
  },
  {
   "cell_type": "code",
   "execution_count": 7,
   "id": "823782ef",
   "metadata": {},
   "outputs": [],
   "source": [
    "# Importação das bibliotecas\n",
    "import os\n",
    "import openai\n",
    "from dotenv import load_dotenv"
   ]
  },
  {
   "cell_type": "markdown",
   "id": "960a1813",
   "metadata": {},
   "source": [
    "## Carregar variáveis de ambiente"
   ]
  },
  {
   "cell_type": "code",
   "execution_count": 8,
   "id": "09b23a56",
   "metadata": {},
   "outputs": [
    {
     "data": {
      "text/plain": [
       "True"
      ]
     },
     "execution_count": 8,
     "metadata": {},
     "output_type": "execute_result"
    }
   ],
   "source": [
    "load_dotenv()"
   ]
  },
  {
   "cell_type": "markdown",
   "id": "08174436",
   "metadata": {},
   "source": [
    "## Configuração do OpenRouter"
   ]
  },
  {
   "cell_type": "code",
   "execution_count": 9,
   "id": "de7f698f",
   "metadata": {},
   "outputs": [],
   "source": [
    "openai.api_key = os.getenv(\"OPENROUTER_API_KEY\")\n",
    "openai.api_base = \"https://openrouter.ai/api/v1\""
   ]
  },
  {
   "cell_type": "code",
   "execution_count": 10,
   "id": "fc6cc8ee",
   "metadata": {},
   "outputs": [],
   "source": [
    "# Função para gerar resposta do modelo\n",
    "def get_chatbot_response(messages, system_prompt=\"\", temperature=0):\n",
    "    response = openai.ChatCompletion.create(\n",
    "        model=\"meta-llama/llama-3.1-8b-instruct:free\",\n",
    "        messages=[\n",
    "            {\"role\": \"system\", \"content\": system_prompt},\n",
    "            {\"role\": \"user\", \"content\": messages}\n",
    "        ],\n",
    "        temperature=temperature\n",
    "    )\n",
    "\n",
    "    return response[\"choices\"][0][\"message\"][\"content\"]"
   ]
  },
  {
   "cell_type": "code",
   "execution_count": 11,
   "id": "1566050e",
   "metadata": {},
   "outputs": [
    {
     "name": "stdout",
     "output_type": "stream",
     "text": [
      "Usuário: Qual é a capital da Austrália?\n",
      "ChatBot: A capital da Austrália é Canberra.\n"
     ]
    }
   ],
   "source": [
    "# Teste da função\n",
    "msg_usuario = \"Qual é a capital da Austrália?\"\n",
    "resposta = get_chatbot_response(msg_usuario)\n",
    "print(f\"Usuário: {msg_usuario}\\nChatBot: {resposta}\")"
   ]
  }
 ],
 "metadata": {
  "kernelspec": {
   "display_name": "Python 3",
   "language": "python",
   "name": "python3"
  },
  "language_info": {
   "codemirror_mode": {
    "name": "ipython",
    "version": 3
   },
   "file_extension": ".py",
   "mimetype": "text/x-python",
   "name": "python",
   "nbconvert_exporter": "python",
   "pygments_lexer": "ipython3",
   "version": "3.13.3"
  }
 },
 "nbformat": 4,
 "nbformat_minor": 5
}
