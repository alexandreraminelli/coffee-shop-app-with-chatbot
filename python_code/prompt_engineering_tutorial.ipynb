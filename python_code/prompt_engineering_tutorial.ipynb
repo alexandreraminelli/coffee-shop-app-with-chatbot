{
 "cells": [
  {
   "cell_type": "markdown",
   "id": "2222b902",
   "metadata": {},
   "source": [
    "Instalação de dependências:"
   ]
  },
  {
   "cell_type": "code",
   "execution_count": 50,
   "id": "8588a29b",
   "metadata": {},
   "outputs": [],
   "source": [
    "# !pip install pandas\n",
    "# !pip install python-dotenv\n",
    "# !pip install openai\n",
    "# !pip install replicate"
   ]
  },
  {
   "cell_type": "code",
   "execution_count": null,
   "id": "823782ef",
   "metadata": {},
   "outputs": [
    {
     "data": {
      "text/plain": [
       "True"
      ]
     },
     "execution_count": 78,
     "metadata": {},
     "output_type": "execute_result"
    }
   ],
   "source": [
    "# Importação das bibliotecas\n",
    "import replicate\n",
    "import os\n",
    "from dotenv import load_dotenv\n",
    "\n",
    "# Carregar variáveis de ambiente\n",
    "load_dotenv()"
   ]
  },
  {
   "cell_type": "code",
   "execution_count": 79,
   "id": "2d9a194b",
   "metadata": {},
   "outputs": [],
   "source": [
    "# Autenticação no Replicate\n",
    "replicate_api_key = os.getenv(\"REPLICATE_API_KEY\") # obtêm token no .env\n",
    "\n",
    "# Salvar token cliente em variável\n",
    "client = replicate.Client(api_token=replicate_api_key)"
   ]
  },
  {
   "cell_type": "code",
   "execution_count": 62,
   "id": "cf86ab24",
   "metadata": {},
   "outputs": [],
   "source": [
    "# Nome do modelo de IA utilizado\n",
    "model_name = \"meta/meta-llama-3-8b-instruct\""
   ]
  },
  {
   "cell_type": "code",
   "execution_count": 80,
   "id": "69a6c39e",
   "metadata": {},
   "outputs": [
    {
     "name": "stdout",
     "output_type": "stream",
     "text": [
      "Olá! Bem-vindo ao Restaurante \"Sabor e Alegria\"! Estou aqui para ajudá-lo com qualquer dúvida ou solicitação que tenha. O que posso fazer por você hoje?\n",
      "\n",
      "Você está procurando por informações sobre o nosso cardápio, reservar uma mesa, ou talvez fazer uma encomenda para entrega ou retirada?"
     ]
    }
   ],
   "source": [
    "# Teste de conexão ao endpoint\n",
    "input = {\n",
    "    \"prompt\": \"Finja ser o chatbot de um restaurante.\",  # prompt de entrada\n",
    "    \"max_new_tokens\": 2_000, # número máximo de tokens (palavras ou sub-palavras) a serem gerados\n",
    "    \"temperature\": 0.0, # temperatura de amostragem: nenhuma aleatoriedade (queremos resultados concretos)\n",
    "    # template de prompt:\n",
    "    \"prompt_template\": \"<|begin_of_text|><|start_header_id|>system<|end_header_id|>\\n\\n{system_prompt}<|eot_id|><|start_header_id|>user<|end_header_id|>\\n\\n{prompt}<|eot_id|><|start_header_id|>assistant<|end_header_id|>\\n\\n\", \n",
    "    \"top_p\": 0.8, # amostragem de núcleo: 80% dos tokens mais prováveis\n",
    "}\n",
    "\n",
    "for event in client.stream(\n",
    "    model_name,\n",
    "    input=input\n",
    "):\n",
    "    print(event, end=\"\")"
   ]
  }
 ],
 "metadata": {
  "kernelspec": {
   "display_name": "Python 3",
   "language": "python",
   "name": "python3"
  },
  "language_info": {
   "codemirror_mode": {
    "name": "ipython",
    "version": 3
   },
   "file_extension": ".py",
   "mimetype": "text/x-python",
   "name": "python",
   "nbconvert_exporter": "python",
   "pygments_lexer": "ipython3",
   "version": "3.13.3"
  }
 },
 "nbformat": 4,
 "nbformat_minor": 5
}
