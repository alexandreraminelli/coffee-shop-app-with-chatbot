{
 "cells": [
  {
   "cell_type": "markdown",
   "id": "2222b902",
   "metadata": {},
   "source": [
    "# Instalação de dependências"
   ]
  },
  {
   "cell_type": "code",
   "execution_count": 2,
   "id": "8588a29b",
   "metadata": {},
   "outputs": [],
   "source": [
    "# !pip install pandas\n",
    "# !pip install python-dotenv\n",
    "# !pip install openai\n",
    "# !pip install replicate"
   ]
  },
  {
   "cell_type": "markdown",
   "id": "1bd48c06",
   "metadata": {},
   "source": [
    "# Importação das bibliotecas"
   ]
  },
  {
   "cell_type": "code",
   "execution_count": 3,
   "id": "823782ef",
   "metadata": {},
   "outputs": [
    {
     "data": {
      "text/plain": [
       "True"
      ]
     },
     "execution_count": 3,
     "metadata": {},
     "output_type": "execute_result"
    }
   ],
   "source": [
    "# Importação das bibliotecas\n",
    "import replicate\n",
    "import os\n",
    "from dotenv import load_dotenv\n",
    "\n",
    "# Carregar variáveis de ambiente\n",
    "load_dotenv()"
   ]
  },
  {
   "cell_type": "markdown",
   "id": "b38552c4",
   "metadata": {},
   "source": [
    "# Configurações do Replicate"
   ]
  },
  {
   "cell_type": "code",
   "execution_count": 4,
   "id": "2d9a194b",
   "metadata": {},
   "outputs": [],
   "source": [
    "# Autenticação no Replicate\n",
    "replicate_api_key = os.getenv(\"REPLICATE_API_KEY\") # obtêm token no .env\n",
    "\n",
    "# Salvar token cliente em variável\n",
    "client = replicate.Client(api_token=replicate_api_key)"
   ]
  },
  {
   "cell_type": "code",
   "execution_count": 5,
   "id": "cf86ab24",
   "metadata": {},
   "outputs": [],
   "source": [
    "# Nome do modelo de IA utilizado\n",
    "model_name = \"meta/meta-llama-3-8b-instruct\""
   ]
  },
  {
   "cell_type": "markdown",
   "id": "9b5b591f",
   "metadata": {},
   "source": [
    "# Obter respostas do LLM"
   ]
  },
  {
   "cell_type": "code",
   "execution_count": 24,
   "id": "1c1f27a5",
   "metadata": {},
   "outputs": [],
   "source": [
    "# Função que recebe o prompt e retorna a resposta do modelo\n",
    "def get_chatbot_response(client, model_name, messages, temperature=0):\n",
    "    # Lista das mensagens de entrada do usuário\n",
    "    input_messages = []\n",
    "    for message in messages:\n",
    "        input_messages.append(message)\n",
    "    # \n",
    "    model_response = {\n",
    "        \"prompt\": \"Finja ser o chatbot de um restaurante.\",  # prompt de entrada\n",
    "        # número máximo de tokens (palavras ou sub-palavras) a serem gerados\n",
    "        \"max_new_tokens\": 2_000,\n",
    "        # temperatura de amostragem: nenhuma aleatoriedade (queremos resultados concretos)\n",
    "        \"temperature\": 0.0,\n",
    "        # template de prompt:\n",
    "        \"prompt_template\": \"<|begin_of_text|><|start_header_id|>system<|end_header_id|>\\n\\n{system_prompt}<|eot_id|><|start_header_id|>user<|end_header_id|>\\n\\n{prompt}<|eot_id|><|start_header_id|>assistant<|end_header_id|>\\n\\n\",\n",
    "        \"top_p\": 0.8,  # amostragem de núcleo: 80% dos tokens mais prováveis\n",
    "    }\n",
    "    # Adicionar cada token à string de saída\n",
    "    response = \"\"\n",
    "    for event in client.stream(model_name,input=model_response):\n",
    "        response += str(event)  # Adiciona cada token à string de saída\n",
    "    # Retorna a resposta do modelo\n",
    "    return response\n"
   ]
  },
  {
   "cell_type": "code",
   "execution_count": 25,
   "id": "a33abf56",
   "metadata": {},
   "outputs": [
    {
     "name": "stdout",
     "output_type": "stream",
     "text": [
      "\n",
      "Usuário: Qual é o prato do dia?\n",
      "ChatBot: Olá! Bem-vindo ao Restaurante \"Sabor e Alegria\"! Estou aqui para ajudá-lo com qualquer dúvida ou solicitação que tenha. O que posso fazer por você hoje?\n",
      "\n",
      "Você está procurando por informações sobre o nosso cardápio, reservar uma mesa, ou talvez fazer uma encomenda para entrega ou retirada?\n"
     ]
    }
   ],
   "source": [
    "# Teste da função\n",
    "msg_usuario=\"Qual é o prato do dia?\"\n",
    "resposta = get_chatbot_response(client, model_name, msg_usuario)\n",
    "\n",
    "print(f\"\\nUsuário: {msg_usuario}\\nChatBot: {resposta}\")"
   ]
  }
 ],
 "metadata": {
  "kernelspec": {
   "display_name": "Python 3",
   "language": "python",
   "name": "python3"
  },
  "language_info": {
   "codemirror_mode": {
    "name": "ipython",
    "version": 3
   },
   "file_extension": ".py",
   "mimetype": "text/x-python",
   "name": "python",
   "nbconvert_exporter": "python",
   "pygments_lexer": "ipython3",
   "version": "3.13.3"
  }
 },
 "nbformat": 4,
 "nbformat_minor": 5
}
