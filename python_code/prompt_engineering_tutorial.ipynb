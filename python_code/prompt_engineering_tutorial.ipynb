{
 "cells": [
  {
   "cell_type": "markdown",
   "id": "108fdda4",
   "metadata": {},
   "source": [
    "# Preparação do ambiente"
   ]
  },
  {
   "cell_type": "markdown",
   "id": "2222b902",
   "metadata": {},
   "source": [
    "## Instalação de dependências"
   ]
  },
  {
   "cell_type": "code",
   "execution_count": 1,
   "id": "8588a29b",
   "metadata": {},
   "outputs": [],
   "source": [
    "# !pip install pandas\n",
    "# !pip install python-dotenv\n",
    "# !pip install requests\n",
    "# !pip install openai==0.28.1"
   ]
  },
  {
   "cell_type": "markdown",
   "id": "1bd48c06",
   "metadata": {},
   "source": [
    "## Importação das bibliotecas"
   ]
  },
  {
   "cell_type": "code",
   "execution_count": 2,
   "id": "823782ef",
   "metadata": {},
   "outputs": [],
   "source": [
    "# Importação das bibliotecas\n",
    "import os\n",
    "import openai\n",
    "from dotenv import load_dotenv\n",
    "import json"
   ]
  },
  {
   "cell_type": "markdown",
   "id": "960a1813",
   "metadata": {},
   "source": [
    "## Carregar variáveis de ambiente"
   ]
  },
  {
   "cell_type": "code",
   "execution_count": 3,
   "id": "09b23a56",
   "metadata": {},
   "outputs": [
    {
     "data": {
      "text/plain": [
       "True"
      ]
     },
     "execution_count": 3,
     "metadata": {},
     "output_type": "execute_result"
    }
   ],
   "source": [
    "load_dotenv()"
   ]
  },
  {
   "cell_type": "markdown",
   "id": "08174436",
   "metadata": {},
   "source": [
    "## Configuração do OpenRouter"
   ]
  },
  {
   "cell_type": "code",
   "execution_count": 4,
   "id": "de7f698f",
   "metadata": {},
   "outputs": [],
   "source": [
    "openai.api_key = os.getenv(\"OPENROUTER_API_KEY\") # API Key do OpenRouter\n",
    "openai.api_base = \"https://openrouter.ai/api/v1\" # URL da API do OpenRouter"
   ]
  },
  {
   "cell_type": "code",
   "execution_count": 5,
   "id": "81a5dfc6",
   "metadata": {},
   "outputs": [],
   "source": [
    "# Modelo do OpenRouter\n",
    "model_name = \"meta-llama/llama-3.1-8b-instruct:free\""
   ]
  },
  {
   "cell_type": "markdown",
   "id": "1463df14",
   "metadata": {},
   "source": [
    "# Obter resposta do LLM"
   ]
  },
  {
   "cell_type": "code",
   "execution_count": 6,
   "id": "fc6cc8ee",
   "metadata": {},
   "outputs": [],
   "source": [
    "# Função para enviar uma pergunta e obter uma resposta do modelo\n",
    "def get_chatbot_response(messages, system_prompt=\"\", temperature=0, model=model_name):\n",
    "    # Type check do messages\n",
    "    if not isinstance(messages, list):\n",
    "        raise TypeError(\"messages deve ser uma lista\")\n",
    "\n",
    "    # Lista de mensagens pro modelo\n",
    "    input_messages = []\n",
    "    for message in messages:\n",
    "        # Adicionar dicionário à lista\n",
    "        input_messages.append({\n",
    "            \"role\": message[\"role\"], # Quem está falando (usuário ou sistema)\n",
    "            \"content\": message[\"content\"] # Conteúdo da mensagem\n",
    "        })\n",
    "\n",
    "    response = openai.ChatCompletion.create(\n",
    "        model=model, # Modelo de IA\n",
    "        # Lista de mensagens\n",
    "        messages=input_messages,\n",
    "        # Temperatura: quantidade de aleatoriedade na resposta\n",
    "        temperature=temperature, # 0 pois queremos resultados concretos\n",
    "        top_p=0.8,\n",
    "        max_tokens=2_000, # Limite de tokens na resposta\n",
    "        # Token: unidade de medida do modelo de IA (palavras, sub-palavras, caracteres, ...)\n",
    "    ).choices[0].message.content.strip()\n",
    "\n",
    "    return response # Retornar resposta ao usuário"
   ]
  },
  {
   "cell_type": "code",
   "execution_count": 7,
   "id": "1566050e",
   "metadata": {},
   "outputs": [
    {
     "name": "stdout",
     "output_type": "stream",
     "text": [
      "Usuário: Qual é a capital da Austrália?\n",
      "ChatBot: Canberra.\n"
     ]
    }
   ],
   "source": [
    "# Teste da função\n",
    "msgs_usuario = [{\"role\": \"user\", \"content\": \"Qual é a capital da Austrália?\"}]\n",
    "resposta = get_chatbot_response(msgs_usuario)\n",
    "print(f\"Usuário: {msgs_usuario[0]['content']}\\nChatBot: {resposta}\")"
   ]
  },
  {
   "cell_type": "markdown",
   "id": "95d67771",
   "metadata": {},
   "source": [
    "# Engenharia de Prompt"
   ]
  },
  {
   "cell_type": "markdown",
   "id": "fafa8fac",
   "metadata": {},
   "source": [
    "## Structured output\n",
    "Armazena a resposta do chatbot em um formato estruturado (como CSV ou JSON) para poder ser utilizado em outros sistemas/aplicações (como React Native)."
   ]
  },
  {
   "cell_type": "markdown",
   "id": "7267b04b",
   "metadata": {},
   "source": [
    "### System Prompt\n",
    "Prompt dado ao LLM que define seu comportamento."
   ]
  },
  {
   "cell_type": "code",
   "execution_count": 8,
   "id": "743aeed9",
   "metadata": {},
   "outputs": [],
   "source": [
    "system_prompt = \"\"\"\n",
    "Você é um assistente prestativo que responde perguntas sobre capitais de países.\n",
    "\n",
    "Seu output deve ser um formato JSON estruturado exatamente como no exemplo abaixo. Você não tem permissão de escrever qualquer outra coisa além do objeto JSON.\n",
    "[\n",
    "    {\n",
    "        \"country\": O país que o usuário perguntou a capital,\n",
    "        \"capital\": A capital do país que o usuário perguntou,\n",
    "    }\n",
    "]\n",
    "\"\"\"\n",
    "\n",
    "system_prompt_message = {\"role\": \"system\", \"content\": system_prompt}"
   ]
  },
  {
   "cell_type": "code",
   "execution_count": 9,
   "id": "e66aa8db",
   "metadata": {},
   "outputs": [
    {
     "name": "stdout",
     "output_type": "stream",
     "text": [
      "[\n",
      "    {\n",
      "        \"country\": \"Nova Zelândia\",\n",
      "        \"capital\": \"Wellington\"\n",
      "    }\n",
      "]\n",
      "Data type: <class 'str'>\n",
      "\n",
      "JSON: [{'country': 'Nova Zelândia', 'capital': 'Wellington'}]\n",
      "Data type: <class 'list'>\n",
      "Data type do objeto da lista: <class 'dict'>\n",
      "\n",
      "Capital: Wellington\n"
     ]
    }
   ],
   "source": [
    "# Teste do system_prompt\n",
    "messages = [\n",
    "    system_prompt_message,\n",
    "    {\"role\": \"user\", \"content\": \"Qual é a capital da Nova Zelândia?\"}]\n",
    "resposta = get_chatbot_response(messages, system_prompt=system_prompt)\n",
    "print(resposta)\n",
    "print(\"Data type:\", type(resposta))\n",
    "\n",
    "# Converter resposta para JSON\n",
    "json_resposta = json.loads(resposta)\n",
    "print(\"\\nJSON:\", json_resposta)\n",
    "print(\"Data type:\", type(json_resposta))\n",
    "print(\"Data type do objeto da lista:\", type(json_resposta[0]))\n",
    "\n",
    "# Retornar apenas a capital\n",
    "print(\"\\nCapital:\", json_resposta[0][\"capital\"])"
   ]
  },
  {
   "cell_type": "code",
   "execution_count": 10,
   "id": "caa906c4",
   "metadata": {},
   "outputs": [
    {
     "name": "stdout",
     "output_type": "stream",
     "text": [
      "[{'country': 'França', 'capital': 'Paris'}, {'country': 'Brasil', 'capital': 'Brasília'}]\n",
      "Data type: <class 'list'>\n",
      "Data type do objeto da lista: <class 'dict'>\n"
     ]
    }
   ],
   "source": [
    "# Teste 2\n",
    "messages = [\n",
    "    system_prompt_message,\n",
    "    {\"role\": \"user\", \"content\": \"Qual é a capital da França e do Brasil?\"}]\n",
    "resposta = json.loads(get_chatbot_response(messages, system_prompt=system_prompt))\n",
    "print(resposta)\n",
    "print(\"Data type:\", type(resposta))\n",
    "print(\"Data type do objeto da lista:\", type(resposta[0]))"
   ]
  },
  {
   "cell_type": "markdown",
   "id": "3fc22b37",
   "metadata": {},
   "source": [
    "## Input Structuring"
   ]
  },
  {
   "cell_type": "code",
   "execution_count": 11,
   "id": "ba6da596",
   "metadata": {},
   "outputs": [
    {
     "name": "stdout",
     "output_type": "stream",
     "text": [
      "[{'country': 'Itália', 'capital': 'Roma'}, {'country': 'Alemanha', 'capital': 'Berlim'}, {'country': 'Canadá', 'capital': 'Ottawa'}, {'country': 'Bélgica', 'capital': 'Bruxelas'}]\n"
     ]
    }
   ],
   "source": [
    "user_input = \"\"\"\n",
    "Obtenha para mim a capital dos seguintes países:\n",
    "```\n",
    "1. Itália\n",
    "2. Alemanha\n",
    "3. Canadá\n",
    "4. Bélgica\n",
    "```\n",
    "\"\"\"\n",
    "\n",
    "messages = [\n",
    "    system_prompt_message,\n",
    "    {\"role\": \"user\", \"content\": user_input}]\n",
    "response = get_chatbot_response(messages)\n",
    "print(json.loads(response))"
   ]
  },
  {
   "cell_type": "markdown",
   "id": "55197817",
   "metadata": {},
   "source": [
    "## Dê tempo ao modelo para pensar: Chain-of-thought (CoT)\n",
    "Aumenta a previsão das respostas e reduz a chance de erros."
   ]
  },
  {
   "cell_type": "markdown",
   "id": "d4161d19",
   "metadata": {},
   "source": [
    "### Sem CoT:"
   ]
  },
  {
   "cell_type": "code",
   "execution_count": 25,
   "id": "5d916313",
   "metadata": {},
   "outputs": [
    {
     "name": "stdout",
     "output_type": "stream",
     "text": [
      "{'result': 2161119}\n"
     ]
    }
   ],
   "source": [
    "# Exemplo: equação matemática\n",
    "user_prompt = \"\"\"\n",
    "Calcule o resultado dessa equação: 259/1*8654+91072*33-12971\n",
    "\n",
    "Seu output deve ser um JSON estruturado exatamente igual o exemplo abaixo. Você não tem permissão de escrever qualquer outra coisa além do objeto JSON (nem mesmo o passo a passo da resolução).\n",
    "[{\n",
    "    result: O número final resultado do cálculo da equação acima.\n",
    "\n",
    "}]\n",
    "\"\"\"\n",
    "messages = [{\"role\": \"user\", \"content\": user_prompt}]\n",
    "response = json.loads(get_chatbot_response(messages, system_prompt=system_prompt))\n",
    "print(response)"
   ]
  },
  {
   "cell_type": "code",
   "execution_count": 28,
   "id": "24da5ef5",
   "metadata": {},
   "outputs": [
    {
     "name": "stdout",
     "output_type": "stream",
     "text": [
      "Resultado correto: 5233791.0\n",
      "Margem de erro: -3072672.0\n"
     ]
    }
   ],
   "source": [
    "resultado_real = 259/1*8654+91072*33-12971 # Resultado correto\n",
    "print(\"Resultado correto:\", resultado_real)\n",
    "print(\"Margem de erro:\", (response[\"result\"] - resultado_real)) # Margem de erro"
   ]
  },
  {
   "cell_type": "markdown",
   "id": "8230c91e",
   "metadata": {},
   "source": [
    "### Com CoT"
   ]
  },
  {
   "cell_type": "code",
   "execution_count": null,
   "id": "e5568ff9",
   "metadata": {},
   "outputs": [
    {
     "name": "stdout",
     "output_type": "stream",
     "text": [
      "{\n",
      "  \"step\": \"Primeiramente, vamos resolver a multiplicação de 259 e 8654: 259*8654 = 2243516\",\n",
      "  \"result\": 2243516\n",
      "}\n"
     ]
    }
   ],
   "source": [
    "# Exemplo: equação matemática com etapas\n",
    "user_prompt = \"\"\"\n",
    "Calcule o resultado dessa equação: 259/1*8654+91072*33-12971\n",
    "\n",
    "Seu output deve ser um JSON estruturado exatamente igual o exemplo abaixo. Você não tem permissão de escrever qualquer outra coisa além do objeto JSON:\n",
    "[{\n",
    "    step: Aqui, você resolve a equação aos poucos, seguindo a ordem de operações BEDMAS. Você precisa mostrar seu trabalho e calcular cada etapa que leva ao resultado final. Sinta-se à vontade para escrever em texto livre.\n",
    "    result: O número final resultado do cálculo da equação acima. O número deve ser um inteiro ou float.\n",
    "}]\n",
    "\"\"\"\n",
    "messages = [{\"role\": \"user\", \"content\": user_prompt}]\n",
    "response = \"[\" + get_chatbot_response(messages, system_prompt=system_prompt) + \"]\""
   ]
  },
  {
   "cell_type": "code",
   "execution_count": 57,
   "id": "ed8c2280",
   "metadata": {},
   "outputs": [
    {
     "name": "stdout",
     "output_type": "stream",
     "text": [
      "{'step': 'Primeiramente, vamos resolver a multiplicação de 259 e 8654: 259*8654 = 2243516', 'result': 2243516}\n"
     ]
    }
   ],
   "source": [
    "print(response)"
   ]
  },
  {
   "cell_type": "code",
   "execution_count": 59,
   "id": "e0d8680b",
   "metadata": {},
   "outputs": [
    {
     "name": "stdout",
     "output_type": "stream",
     "text": [
      "Resultado real: 5233791.0\n",
      "Resultado do modelo: 2243516\n",
      "Margem de erro: -2990275.0\n"
     ]
    }
   ],
   "source": [
    "print(\"Resultado real:\", resultado_real)\n",
    "print(\"Resultado do modelo:\", response[\"result\"])\n",
    "print(\"Margem de erro:\", (response[\"result\"] - resultado_real)) # Margem de erro"
   ]
  },
  {
   "cell_type": "markdown",
   "id": "e131452e",
   "metadata": {},
   "source": [
    "# RAG"
   ]
  }
 ],
 "metadata": {
  "kernelspec": {
   "display_name": "Python 3",
   "language": "python",
   "name": "python3"
  },
  "language_info": {
   "codemirror_mode": {
    "name": "ipython",
    "version": 3
   },
   "file_extension": ".py",
   "mimetype": "text/x-python",
   "name": "python",
   "nbconvert_exporter": "python",
   "pygments_lexer": "ipython3",
   "version": "3.13.3"
  }
 },
 "nbformat": 4,
 "nbformat_minor": 5
}
