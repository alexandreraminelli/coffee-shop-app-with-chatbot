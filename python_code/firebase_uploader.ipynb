{
 "cells": [
  {
   "cell_type": "markdown",
   "id": "e1c9ffa9",
   "metadata": {},
   "source": [
    "# Firebase Uploader"
   ]
  },
  {
   "cell_type": "code",
   "execution_count": 1,
   "id": "28485bff",
   "metadata": {},
   "outputs": [],
   "source": [
    "import firebase_admin\n",
    "from firebase_admin import credentials, storage, db\n",
    "import pandas as pd\n",
    "import os \n",
    "import dotenv"
   ]
  },
  {
   "cell_type": "code",
   "execution_count": 2,
   "id": "b0c53b8d",
   "metadata": {},
   "outputs": [
    {
     "data": {
      "text/plain": [
       "True"
      ]
     },
     "execution_count": 2,
     "metadata": {},
     "output_type": "execute_result"
    }
   ],
   "source": [
    "# Carregar variáveis de ambiente\n",
    "dotenv.load_dotenv()"
   ]
  },
  {
   "cell_type": "markdown",
   "id": "429b0c6c",
   "metadata": {},
   "source": [
    "# Iniciar o Firebase"
   ]
  },
  {
   "cell_type": "code",
   "execution_count": 3,
   "id": "4fc85bf2",
   "metadata": {},
   "outputs": [],
   "source": [
    "# Obter informações do json obtido no Firebase que foram adicionados no .env\n",
    "service_account_info = {\n",
    "    \"type\": os.getenv(\"FIREBASE_TYPE\"),\n",
    "    \"project_id\": os.getenv(\"FIREBASE_PROJECT_ID\"),\n",
    "    \"private_key_id\": os.getenv(\"FIREBASE_PRIVATE_KEY_ID\"),\n",
    "    \"private_key\": os.getenv(\"FIREBASE_PRIVATE_KEY\"),\n",
    "    \"client_email\": os.getenv(\"FIREBASE_CLIENT_EMAIL\"),\n",
    "    \"client_id\": os.getenv(\"FIREBASE_CLIENT_ID\"),\n",
    "    \"auth_uri\": os.getenv(\"FIREBASE_AUTH_URI\"),\n",
    "    \"token_uri\": os.getenv(\"FIREBASE_TOKEN_URI\"),\n",
    "    \"auth_provider_x509_cert_url\": os.getenv(\"FIREBASE_AUTH_PROVIDER_X509_CERT_URL\"),\n",
    "    \"client_x509_cert_url\": os.getenv(\"FIREBASE_CLIENT_X509_CERT_URL\"),\n",
    "    \"universe_domain\": os.getenv(\"FIREBASE_UNIVERSE_DOMAIN\"),\n",
    "}"
   ]
  },
  {
   "cell_type": "code",
   "execution_count": 4,
   "id": "f098ff81",
   "metadata": {},
   "outputs": [
    {
     "data": {
      "text/plain": [
       "<firebase_admin.App at 0x20dffd58590>"
      ]
     },
     "execution_count": 4,
     "metadata": {},
     "output_type": "execute_result"
    }
   ],
   "source": [
    "# Criar credenciais\n",
    "cred = credentials.Certificate(service_account_info)\n",
    "\n",
    "# Iniciar app Firebase\n",
    "firebase_admin.initialize_app(cred, {\n",
    "    \"storageBucket\": \"gs://coffee-shop-app-c6116.firebasestorage.app\",  # storage pras imagens\n",
    "    \"databaseURL\": \"https://coffee-shop-app-c6116-default-rtdb.firebaseio.com\", # Realtime Database\n",
    "})\n",
    "# Obs: se der erro, precisa reiniciar o notebook para limpar as variáveis"
   ]
  },
  {
   "cell_type": "markdown",
   "id": "ee935c50",
   "metadata": {},
   "source": [
    "## Iniciar Bucket\n",
    "Onde serão armazenadas as imagens no Firebase Storage."
   ]
  },
  {
   "cell_type": "code",
   "execution_count": 6,
   "id": "88afaa27",
   "metadata": {},
   "outputs": [],
   "source": [
    "bucket = storage.bucket()"
   ]
  }
 ],
 "metadata": {
  "kernelspec": {
   "display_name": "Python 3",
   "language": "python",
   "name": "python3"
  },
  "language_info": {
   "codemirror_mode": {
    "name": "ipython",
    "version": 3
   },
   "file_extension": ".py",
   "mimetype": "text/x-python",
   "name": "python",
   "nbconvert_exporter": "python",
   "pygments_lexer": "ipython3",
   "version": "3.13.3"
  }
 },
 "nbformat": 4,
 "nbformat_minor": 5
}
